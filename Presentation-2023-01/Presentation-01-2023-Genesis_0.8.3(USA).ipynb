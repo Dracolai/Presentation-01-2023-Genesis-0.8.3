{
 "cells": [
  {
   "cell_type": "markdown",
   "id": "c4305c85-4ea6-45b3-ba89-2805134b8f96",
   "metadata": {
    "slideshow": {
     "slide_type": "slide"
    }
   },
   "source": [
    "#  <h2><center>Genesis 0.8.3</center></h2>\n",
    "   <h2><center>☧ Redemptoris edition ☧</center></h2>\n",
    "   <h4><center>A Return and Forward Leap</center><h4>\n",
    "    <center>by Valente Antonin</center>\n",
    "   <center><img src=\"./logo.png\" width=\"300\"></center><h4>\n",
    "   <center><img src=\"./Bandeau_logos_tutelles.png\" width=\"300\"></center><h4>"
   ]
  },
  {
   "cell_type": "markdown",
   "id": "7ea539d4-57ab-4c91-93fb-5581e8431546",
   "metadata": {
    "slideshow": {
     "slide_type": "slide"
    },
    "tags": []
   },
   "source": [
    "# <center>Contents</center>\n",
    "* [Introduction](#chapter_1)\n",
    "    * [Objectives $\\&$ issues](#section_1_1)\n",
    "    * [Recall the final results of my internship](#section_1_2)\n",
    "    * [Brief technical bibliography](#section_1_3)\n",
    "* [Genesis $0.8.3$, _Redemptoris_](#chapter_2)\n",
    "    * [Data grouping](#section_2_1)\n",
    "        * [Data visualization](#subsection_2_1_1)\n",
    "        * [Data clustering](#subsection_2_1_2)\n",
    "        * [From clusters to groups](#subsection_2_1_3)\n",
    "    * [Linearization](#section_2_2)\n",
    "        * [Construction of the reciprocal surface](#subsection_2_2_1)\n",
    "        * [Projection on the reciprocal surface](#subsection_2_2_2)\n",
    "        * [Projection on the linear axis](#subsection_2_2_3)\n",
    "* [Conclusion](#chapter_3)\n",
    "* [Outlook](#chapter_4)\n",
    "* [Bibliography](#chapter_5)"
   ]
  },
  {
   "cell_type": "markdown",
   "id": "0b29de03-f10d-4c37-92df-870cb2f7f362",
   "metadata": {
    "slideshow": {
     "slide_type": "slide"
    },
    "tags": []
   },
   "source": [
    "# <h2><center>Introduction</center></h2>"
   ]
  },
  {
   "cell_type": "markdown",
   "id": "005352b1-50a6-4a83-bf4c-f5b83e32e459",
   "metadata": {
    "slideshow": {
     "slide_type": "fragment"
    },
    "tags": []
   },
   "source": [
    "The $INDRA-FAZIA$ detector produces, for a given experiment, $E-\\Delta E$ maps."
   ]
  },
  {
   "cell_type": "markdown",
   "id": "445548a9-355a-420f-9f5f-caf04712b1cb",
   "metadata": {
    "slideshow": {
     "slide_type": "fragment"
    },
    "tags": []
   },
   "source": [
    "By the accumulation of points, we have the emergence of a statistical pattern representing the phenomenon of energy deposition for each charge and mass. "
   ]
  },
  {
   "cell_type": "markdown",
   "id": "76044f65-a011-4b8f-b2fb-bb7b35bd2b43",
   "metadata": {
    "slideshow": {
     "slide_type": "fragment"
    },
    "tags": []
   },
   "source": [
    "Labeling these lines, i.e., identifying them, will give us the population levels and their density. "
   ]
  },
  {
   "cell_type": "markdown",
   "id": "e0efa19b-952a-40fb-ab6c-88d8ad39ba83",
   "metadata": {
    "slideshow": {
     "slide_type": "fragment"
    },
    "tags": []
   },
   "source": [
    "The population density of these mass and charge levels is necessary to understand the reactions."
   ]
  },
  {
   "cell_type": "markdown",
   "id": "d5958938-e21a-46a7-aa6e-269735cebe1e",
   "metadata": {
    "slideshow": {
     "slide_type": "slide"
    },
    "tags": []
   },
   "source": [
    "## __Objectives $\\&$ issues__"
   ]
  },
  {
   "cell_type": "markdown",
   "id": "7372851e-e42a-4caf-8854-a299ec56593e",
   "metadata": {
    "slideshow": {
     "slide_type": "fragment"
    },
    "tags": []
   },
   "source": [
    "The main goal of my $Genesis$ project is to automate and improve the analysis of $E-\\Delta E$ correlation maps."
   ]
  },
  {
   "cell_type": "markdown",
   "id": "f6308d4e-80e1-44a5-8498-8c578c349280",
   "metadata": {
    "slideshow": {
     "slide_type": "fragment"
    },
    "tags": []
   },
   "source": [
    "The challenge here will be simply with a fine analysis of the physics of the detector to achieve a linearization of the $E-\\Delta E$ maps."
   ]
  },
  {
   "cell_type": "markdown",
   "id": "f5f0e77c-2e34-4435-8d90-a0ea1d28bab9",
   "metadata": {
    "slideshow": {
     "slide_type": "fragment"
    },
    "tags": []
   },
   "source": [
    "For this, a few guiding rules :\n",
    "\n",
    "- quantitative estimation of the quality of the models used and the errors\n",
    "- Explanation of all the assumptions and models used to reach my goals\n",
    "- a tractable analysis on a modestly configured (or even obsolete) computer."
   ]
  },
  {
   "cell_type": "markdown",
   "id": "1cc2a9b9-eebc-4f8b-88e0-b762e0be5e65",
   "metadata": {
    "slideshow": {
     "slide_type": "slide"
    },
    "tags": []
   },
   "source": [
    "## __Recall the final results of my internship__"
   ]
  },
  {
   "cell_type": "markdown",
   "id": "b35c4fdc-7e49-4153-b3ee-94235e664a8c",
   "metadata": {
    "slideshow": {
     "slide_type": "fragment"
    },
    "tags": []
   },
   "source": [
    "Following the course, the only convincing result was the distinction of the lines in $Z$. "
   ]
  },
  {
   "cell_type": "markdown",
   "id": "567de1e0-e8b6-46c8-afce-2e0f7cb3d3a2",
   "metadata": {
    "slideshow": {
     "slide_type": "fragment"
    },
    "tags": []
   },
   "source": [
    "This analysis was conducted for two maps of the $FAZIA-Sym$ experiment. "
   ]
  },
  {
   "cell_type": "markdown",
   "id": "50b31c7a-e169-480b-9bd0-9ebc827cfa77",
   "metadata": {
    "slideshow": {
     "slide_type": "fragment"
    },
    "tags": []
   },
   "source": [
    "The beam was composed of $^{48}Ca$ with an energy of $35 Mev/Nuc$."
   ]
  },
  {
   "cell_type": "markdown",
   "id": "4b3efee0-5ce7-48d3-9387-32bc54cc35ce",
   "metadata": {
    "slideshow": {
     "slide_type": "fragment"
    },
    "tags": []
   },
   "source": [
    "The energy deposition model was :\n",
    "\n",
    "\\begin{align}\n",
    "\\begin{split}\n",
    "\\Delta E(E) = \\frac{a}{E+b}+\\frac{c}{\\sqrt{E+d}}+e\\ln(E+1)\n",
    "\\end{split}\n",
    "\\end{align}"
   ]
  },
  {
   "cell_type": "markdown",
   "id": "9f9b6931-d3e6-49a0-9846-e34e6199cb9c",
   "metadata": {
    "slideshow": {
     "slide_type": "slide"
    },
    "tags": []
   },
   "source": [
    "#### __$Si-Si$ map with $Z$ analysis__ "
   ]
  },
  {
   "cell_type": "markdown",
   "id": "4cefb799-1d97-442e-aff0-5854de9c87b9",
   "metadata": {
    "slideshow": {
     "slide_type": "fragment"
    },
    "tags": []
   },
   "source": [
    "<center><img src=\"./Résultat_stage_1.png\" width=\"450\"></center><h4>"
   ]
  },
  {
   "cell_type": "markdown",
   "id": "b81f5652-a3d4-481e-b632-6336c83fc2f0",
   "metadata": {
    "slideshow": {
     "slide_type": "fragment"
    },
    "tags": []
   },
   "source": [
    "In __black__, is drawn the most populated mass line and in __<font color=Red>red</font>__ the $Z$ line adjusted on the corresponding group."
   ]
  },
  {
   "cell_type": "markdown",
   "id": "224ace61-26d4-4d1e-bcd7-a9640e749a13",
   "metadata": {
    "slideshow": {
     "slide_type": "fragment"
    },
    "tags": []
   },
   "source": [
    "The different colors represent __successively__ a group of data characterized in $Z$. "
   ]
  },
  {
   "cell_type": "markdown",
   "id": "36d61606-755d-4781-9334-d35ade52d40e",
   "metadata": {
    "slideshow": {
     "slide_type": "slide"
    },
    "tags": []
   },
   "source": [
    "#### __$Si-CsI$ map with $Z$ analysis__ "
   ]
  },
  {
   "cell_type": "markdown",
   "id": "9c30f482-b6b1-4572-bc3f-c390e1267dff",
   "metadata": {
    "slideshow": {
     "slide_type": "fragment"
    },
    "tags": []
   },
   "source": [
    "<center><img src=\"./Résultat_stage_2.png\" width=\"500\"></center><h4>"
   ]
  },
  {
   "cell_type": "markdown",
   "id": "5a72dfde-5b63-40df-b853-7d7e8bd003f5",
   "metadata": {
    "slideshow": {
     "slide_type": "slide"
    },
    "tags": []
   },
   "source": [
    "<center><img src=\"./Résultat_stage_2.png\" width=\"350\"> <img src=\"./Résultat_stage_1.png\" width=\"350\"></center>"
   ]
  },
  {
   "cell_type": "markdown",
   "id": "49555a38-6463-4d01-bfd9-668da40988be",
   "metadata": {
    "slideshow": {
     "slide_type": "fragment"
    },
    "tags": []
   },
   "source": [
    "This work allowed to make a preliminary study by aggregating the first tools and the method allowing to solve this problem."
   ]
  },
  {
   "cell_type": "markdown",
   "id": "cf37517b-c0de-4ce9-a8c4-c3a215382660",
   "metadata": {
    "slideshow": {
     "slide_type": "fragment"
    },
    "tags": []
   },
   "source": [
    "However, there is still a lot to do..."
   ]
  },
  {
   "cell_type": "markdown",
   "id": "3b7d9975-3520-4c2a-a90c-656e4f1e70ed",
   "metadata": {
    "slideshow": {
     "slide_type": "slide"
    },
    "tags": []
   },
   "source": [
    "## __Brief technical bibliography__"
   ]
  },
  {
   "cell_type": "markdown",
   "id": "20bf1c67-dea4-478e-af85-fe3a2946e2d4",
   "metadata": {
    "slideshow": {
     "slide_type": "fragment"
    },
    "tags": []
   },
   "source": [
    "In this section, I will briefly detail each technical step leading to the above results."
   ]
  },
  {
   "cell_type": "markdown",
   "id": "dc8f6ca8-8675-413f-8c7f-f16f4a1baf5a",
   "metadata": {
    "slideshow": {
     "slide_type": "fragment"
    },
    "tags": []
   },
   "source": [
    "The $Python$ libraries that I use :\n",
    "\n",
    "- _Numpy_ and _Scipy_, for all the calculations\n",
    "- _Pyclustering_, for the $CLIQUE$ algorithm\n",
    "- _Matplotlib_, for the graphical interface.\n",
    "\n",
    "As a fitting method, I simply used the _least squares method_.<br>\n",
    "For the rest, it's a collection of standard calculation techniques."
   ]
  },
  {
   "cell_type": "markdown",
   "id": "81cbd413-07ce-4bd9-8196-26cd2763f080",
   "metadata": {
    "slideshow": {
     "slide_type": "slide"
    },
    "tags": []
   },
   "source": [
    "#  <h2><center>Genesis 0.8.3</center></h2> \n",
    "   <h2><center>☧ Redemptoris edition ☧</center></h2>"
   ]
  },
  {
   "cell_type": "markdown",
   "id": "8d5e755d-9dd4-4a79-ae78-c469f2f13c02",
   "metadata": {
    "slideshow": {
     "slide_type": "fragment"
    },
    "tags": []
   },
   "source": [
    "The $Genesis$ analysis is done on the dataset experiment :\n",
    "- $FAZIA-Sym$, for a $^{48}Ca$ beam in $Si-Si$\n",
    "- $FAZIA-Sym$, for a $^{48}Ca$ beam in $Si-CsI$\n",
    "- $LNS-2009$, for a $^{84}Kr$ beam in $Si-Si$ (partial statistics)"
   ]
  },
  {
   "cell_type": "markdown",
   "id": "26ce94c1-01c3-4464-9cff-b1cd585e85f1",
   "metadata": {
    "slideshow": {
     "slide_type": "slide"
    },
    "tags": []
   },
   "source": [
    "## __Data grouping__"
   ]
  },
  {
   "cell_type": "markdown",
   "id": "3bc048bf-fa0d-45d8-afa9-f2ec75d9d3e9",
   "metadata": {
    "slideshow": {
     "slide_type": "fragment"
    },
    "tags": []
   },
   "source": [
    "The first step is to be able to recover the most densely populated areas and group them together.  "
   ]
  },
  {
   "cell_type": "markdown",
   "id": "0023b4ec-6480-4f9e-96b5-0377b961c30e",
   "metadata": {
    "slideshow": {
     "slide_type": "fragment"
    },
    "tags": []
   },
   "source": [
    "For this I use a clustering algorithm $CLIQUE$, taking as input a square histogram representation of my data."
   ]
  },
  {
   "cell_type": "markdown",
   "id": "35ca8c63-5363-4ebf-854b-1b54b3f26128",
   "metadata": {
    "slideshow": {
     "slide_type": "fragment"
    },
    "tags": []
   },
   "source": [
    "We visualize all our input data in a density histogram to choose the best mesh.  "
   ]
  },
  {
   "cell_type": "markdown",
   "id": "59fdf5c6-4719-4966-bd88-ce7c26de9c57",
   "metadata": {
    "slideshow": {
     "slide_type": "slide"
    },
    "tags": []
   },
   "source": [
    "### __Data visualization__"
   ]
  },
  {
   "cell_type": "markdown",
   "id": "a6713e54-4de0-4ad9-a845-7e3f87b12e51",
   "metadata": {
    "slideshow": {
     "slide_type": "fragment"
    },
    "tags": []
   },
   "source": [
    "Upstream, we look at how the mass lines appear according to the mesh."
   ]
  },
  {
   "cell_type": "markdown",
   "id": "0d208be9-70ee-403c-aac5-02ab78241fb8",
   "metadata": {
    "slideshow": {
     "slide_type": "fragment"
    },
    "tags": []
   },
   "source": [
    "The choice of the mesh is phenomenological. "
   ]
  },
  {
   "cell_type": "markdown",
   "id": "66b24ae4-8df7-4611-bd37-1b55ca82951f",
   "metadata": {
    "slideshow": {
     "slide_type": "fragment"
    },
    "tags": []
   },
   "source": [
    "We notice that the best way to make the lines stand out is to use the $90^\\text{th}$ percentile of the distribution of the values within each block to reach the $14$ value."
   ]
  },
  {
   "cell_type": "markdown",
   "id": "297df383-ad73-4a67-a7fc-d2f9112a330f",
   "metadata": {
    "slideshow": {
     "slide_type": "slide"
    },
    "tags": []
   },
   "source": [
    "#### __$Si-Si$ map, for a $^{48}Ca$ beam__ "
   ]
  },
  {
   "cell_type": "markdown",
   "id": "47157895-bd1a-447e-8fda-0e0a140867fe",
   "metadata": {},
   "source": [
    "<center><img src=\"./Visualisation_Si-Si_Ca.png\" width=\"350\">  <img src=\"./Visualisation_Si-Si_Ca_proba.png\" width=\"350\"></center>"
   ]
  },
  {
   "cell_type": "markdown",
   "id": "e3f0b498-991e-4108-beae-d421def6fec3",
   "metadata": {
    "slideshow": {
     "slide_type": "fragment"
    },
    "tags": []
   },
   "source": [
    "The __<font color=Yellow>yellow</font>__ pattern gives the relief of population density. "
   ]
  },
  {
   "cell_type": "markdown",
   "id": "fd349147-d77c-48fd-a9b6-ef63675b2e31",
   "metadata": {
    "slideshow": {
     "slide_type": "fragment"
    },
    "tags": []
   },
   "source": [
    "The mesh size here is $170^2$ blocks."
   ]
  },
  {
   "cell_type": "markdown",
   "id": "328cb8b1-5792-48fb-9661-d39c41ed5ffc",
   "metadata": {
    "slideshow": {
     "slide_type": "slide"
    },
    "tags": []
   },
   "source": [
    "#### __$Si-Si$ map, for a $^{84}Kr$ beam__ "
   ]
  },
  {
   "cell_type": "markdown",
   "id": "55afd33b-1190-45f4-864d-7fdc729fdbc9",
   "metadata": {
    "slideshow": {
     "slide_type": "fragment"
    },
    "tags": []
   },
   "source": [
    "<center><img src=\"./Visualisation_Si-Si_Kr.png\" width=\"350\"> <img src=\"./Visualisation_Si-Si_Kr_proba.png\" width=\"350\"></center>"
   ]
  },
  {
   "cell_type": "markdown",
   "id": "89898f33-55a8-449b-9bfc-7a1a6b6f3ef0",
   "metadata": {
    "slideshow": {
     "slide_type": "fragment"
    },
    "tags": []
   },
   "source": [
    "The mesh size here is $480^2$ blocks."
   ]
  },
  {
   "cell_type": "markdown",
   "id": "1824cf57-3429-4e81-ac82-43c4d9c83fb0",
   "metadata": {
    "slideshow": {
     "slide_type": "slide"
    },
    "tags": []
   },
   "source": [
    "#### __$Si-CsI$ map, for a $^{48}Ca$ beam__ "
   ]
  },
  {
   "cell_type": "markdown",
   "id": "4e53a199-4378-4f84-8318-f2fae7329477",
   "metadata": {
    "slideshow": {
     "slide_type": "fragment"
    },
    "tags": []
   },
   "source": [
    "<center><img src=\"./Visualisation_Si-CsI_Ca.png\" width=\"350\"> \n",
    "    <img src=\"./Visualisation_Si-CsI_Ca_proba.png\" width=\"350\"></center>"
   ]
  },
  {
   "cell_type": "markdown",
   "id": "0900a2b4-d28b-4335-b362-f2fb91db0997",
   "metadata": {
    "slideshow": {
     "slide_type": "fragment"
    },
    "tags": []
   },
   "source": [
    "The mesh size here is $265^2$ blocks."
   ]
  },
  {
   "cell_type": "markdown",
   "id": "5b7116fa-1a92-4303-b6d2-35cc45b71cc4",
   "metadata": {
    "slideshow": {
     "slide_type": "slide"
    },
    "tags": []
   },
   "source": [
    "### __Data clustering__"
   ]
  },
  {
   "cell_type": "markdown",
   "id": "eec11d19-9e20-4eb8-92ae-0f32bd07cae2",
   "metadata": {
    "slideshow": {
     "slide_type": "fragment"
    },
    "tags": []
   },
   "source": [
    "We now place the representation histogram in the $CLIQUE$ algorithm. "
   ]
  },
  {
   "cell_type": "markdown",
   "id": "6befe2c6-24cb-48ae-adc3-30228c416e92",
   "metadata": {
    "slideshow": {
     "slide_type": "fragment"
    },
    "tags": []
   },
   "source": [
    "As input, $CLIQUE$ the algorithm takes a constant threshold which will be worth here the value of the $90^\\text{th}$ percentile, that is $14$."
   ]
  },
  {
   "cell_type": "markdown",
   "id": "68c43c52-b48b-40b0-8097-860904846343",
   "metadata": {
    "slideshow": {
     "slide_type": "fragment"
    },
    "tags": []
   },
   "source": [
    "It then returns to us in output a collection of agglomerates."
   ]
  },
  {
   "cell_type": "markdown",
   "id": "a347b396-a107-43cd-973c-7091a61d5a16",
   "metadata": {
    "slideshow": {
     "slide_type": "slide"
    },
    "tags": []
   },
   "source": [
    "#### __$Si-Si$ map, for a $^{48}Ca$ beam__  "
   ]
  },
  {
   "cell_type": "markdown",
   "id": "8c22ce04-3229-45cc-86a8-3714bed87531",
   "metadata": {
    "slideshow": {
     "slide_type": "fragment"
    },
    "tags": []
   },
   "source": [
    "<center><img src=\"./CLIQUE_Si-Si_Ca.png\" width=\"500\"></center>"
   ]
  },
  {
   "cell_type": "markdown",
   "id": "6b1cf4cf-3315-47ad-854a-f916f7bb6bc8",
   "metadata": {
    "slideshow": {
     "slide_type": "fragment"
    },
    "tags": []
   },
   "source": [
    "Here each set of colored dots is a cluster."
   ]
  },
  {
   "cell_type": "markdown",
   "id": "bf7150f5-daee-46d1-98a3-832b60669f29",
   "metadata": {
    "slideshow": {
     "slide_type": "slide"
    },
    "tags": []
   },
   "source": [
    "#### __$Si-Si$ map, for a $^{84}Kr$ beam__ "
   ]
  },
  {
   "cell_type": "markdown",
   "id": "2302789a-982c-44ce-a523-c9a32f6c7098",
   "metadata": {
    "slideshow": {
     "slide_type": "fragment"
    },
    "tags": []
   },
   "source": [
    "<center><img src=\"./CLIQUE_Si-Si_Kr.png\" width=\"500\"></center>"
   ]
  },
  {
   "cell_type": "markdown",
   "id": "e1657bef-5d13-49f3-b63e-a13e88928d46",
   "metadata": {
    "slideshow": {
     "slide_type": "slide"
    },
    "tags": []
   },
   "source": [
    "#### __$Si-CsI$ map, for a $^{48}Ca$ beam__"
   ]
  },
  {
   "cell_type": "markdown",
   "id": "49b0bc18-61f4-4c15-9059-43472c41dd98",
   "metadata": {
    "slideshow": {
     "slide_type": "fragment"
    },
    "tags": []
   },
   "source": [
    "<center><img src=\"./CLIQUE_Si-CsI_Ca.png\" width=\"500\"></center>"
   ]
  },
  {
   "cell_type": "markdown",
   "id": "da57b6d3-efee-4826-8b07-36843c955c8a",
   "metadata": {
    "slideshow": {
     "slide_type": "slide"
    },
    "tags": []
   },
   "source": [
    "### __From clusters to groups__"
   ]
  },
  {
   "cell_type": "markdown",
   "id": "85606ae6-dbac-4e96-b6e2-7043960d783a",
   "metadata": {
    "slideshow": {
     "slide_type": "fragment"
    },
    "tags": []
   },
   "source": [
    "The clusters are divided into two categories: small and large."
   ]
  },
  {
   "cell_type": "markdown",
   "id": "cb937fb0-b511-499c-9f10-16a1289824a3",
   "metadata": {
    "slideshow": {
     "slide_type": "fragment"
    },
    "tags": []
   },
   "source": [
    "They should therefore be distinguished."
   ]
  },
  {
   "cell_type": "markdown",
   "id": "f2980570-4db0-4ff6-a900-f8a60acb976b",
   "metadata": {
    "slideshow": {
     "slide_type": "fragment"
    },
    "tags": []
   },
   "source": [
    "This is done here by their surface in the projected plane $E-\\Delta E$."
   ]
  },
  {
   "cell_type": "markdown",
   "id": "e4a92b2f-9dcd-4a56-8aa1-0606aaa160ee",
   "metadata": {
    "slideshow": {
     "slide_type": "fragment"
    },
    "tags": []
   },
   "source": [
    "We then look at the population distribution of each of the clusters and separate them into two groups."
   ]
  },
  {
   "cell_type": "markdown",
   "id": "0097e16e-9903-499f-8549-cc5afd9abedb",
   "metadata": {
    "slideshow": {
     "slide_type": "fragment"
    },
    "tags": []
   },
   "source": [
    "The separation is done with a percentile $>70^\\text{th}$."
   ]
  },
  {
   "cell_type": "markdown",
   "id": "dad18f73-bc4a-46b1-88e3-8f372d090814",
   "metadata": {
    "slideshow": {
     "slide_type": "slide"
    },
    "tags": []
   },
   "source": [
    "#### __Population of the $Si-Si$ map, for a $^{48}Ca$ beam__ "
   ]
  },
  {
   "cell_type": "markdown",
   "id": "347f7093-1395-4dd4-8eb3-a579aa5d77b0",
   "metadata": {
    "slideshow": {
     "slide_type": "fragment"
    },
    "tags": []
   },
   "source": [
    "<center><img src=\"./CLIQUE_population_Si-Si_Ca.png\" width=\"425\"></center>"
   ]
  },
  {
   "cell_type": "markdown",
   "id": "0b87db30-2336-48e5-b370-e08c63afdf90",
   "metadata": {
    "slideshow": {
     "slide_type": "fragment"
    },
    "tags": []
   },
   "source": [
    "The __<font color=Orange>orange</font>__ boundary is the separation between the two populations. Beyond the limit are the large clusters.<br>"
   ]
  },
  {
   "cell_type": "markdown",
   "id": "4eb904cf-6806-45cb-94ff-57119dfc818f",
   "metadata": {
    "slideshow": {
     "slide_type": "fragment"
    },
    "tags": []
   },
   "source": [
    "The percentile of separation is $84^\\text{th}$."
   ]
  },
  {
   "cell_type": "markdown",
   "id": "4723ba6c-63cc-4537-a6e7-207bb58db1d2",
   "metadata": {
    "slideshow": {
     "slide_type": "slide"
    },
    "tags": []
   },
   "source": [
    "#### __Population of the $Si-Si$ map, for a $^{84}Kr$ beam__ "
   ]
  },
  {
   "cell_type": "markdown",
   "id": "0a451ec3-6605-4aaa-9bd0-cab9bf3a749e",
   "metadata": {
    "slideshow": {
     "slide_type": "fragment"
    },
    "tags": []
   },
   "source": [
    "<center><img src=\"./CLIQUE_population_Si-Si_Kr.png\" width=\"450\"></center>"
   ]
  },
  {
   "cell_type": "markdown",
   "id": "63c8289a-06cd-454f-92cc-270538b46552",
   "metadata": {
    "slideshow": {
     "slide_type": "fragment"
    },
    "tags": []
   },
   "source": [
    "The percentile of separation is $98^\\text{th}$."
   ]
  },
  {
   "cell_type": "markdown",
   "id": "b4f75e0b-bffc-4275-9d64-51f00e46e608",
   "metadata": {
    "slideshow": {
     "slide_type": "slide"
    },
    "tags": []
   },
   "source": [
    "#### __Population of the $Si-CsI$ map, for a $^{48}Ca$ beam__ "
   ]
  },
  {
   "cell_type": "markdown",
   "id": "637e2860-e3de-4b01-8a96-1958f33e2ef8",
   "metadata": {
    "slideshow": {
     "slide_type": "fragment"
    },
    "tags": []
   },
   "source": [
    "<center><img src=\"./CLIQUE_population_Si-CsI_Ca.png\" width=\"450\"></center>"
   ]
  },
  {
   "cell_type": "markdown",
   "id": "278c8867-a4d0-4034-b28e-744e2452c559",
   "metadata": {
    "slideshow": {
     "slide_type": "fragment"
    },
    "tags": []
   },
   "source": [
    "The percentile of separation is $89^\\text{th}$."
   ]
  },
  {
   "cell_type": "markdown",
   "id": "94193674-88fd-476c-8738-edab71bdd61b",
   "metadata": {
    "slideshow": {
     "slide_type": "slide"
    },
    "tags": []
   },
   "source": [
    "Once this is done, we can proceed to the recovery of the clusters by the large ones along a pattern :"
   ]
  },
  {
   "cell_type": "markdown",
   "id": "a5bea036-3fbb-431a-8d93-450097163335",
   "metadata": {
    "slideshow": {
     "slide_type": "fragment"
    },
    "tags": []
   },
   "source": [
    "\\begin{align}\n",
    "\\begin{split}\n",
    "\\Delta E(E) = \\frac{\\Delta E_0 f(E)}{\\Delta E_0}\n",
    "\\end{split}\n",
    "\\end{align}"
   ]
  },
  {
   "cell_type": "markdown",
   "id": "c59e4d6e-e290-4fb3-9c5b-5c202bc8880f",
   "metadata": {
    "slideshow": {
     "slide_type": "fragment"
    },
    "tags": []
   },
   "source": [
    "with :\n",
    "\n",
    "\\begin{align}\n",
    "\\begin{split}\n",
    "\\begin{cases}\n",
    "\\Delta E_0 &= \\frac{b(1+c)}{c}\\\\\n",
    "f(E)       &= \\frac{b}{aE+c}+\\frac{b}{\\sqrt{aE+1}}\n",
    "\\end{cases}\n",
    "\\end{split}\n",
    "\\end{align}\n",
    "\n",
    "where $a,b,c$ are fitting parameters."
   ]
  },
  {
   "cell_type": "markdown",
   "id": "b24c24bc-27c1-4ebb-a0fb-d16a74ac453e",
   "metadata": {
    "slideshow": {
     "slide_type": "slide"
    },
    "tags": []
   },
   "source": [
    "We then drag on each curve a Gaussian of width $\\sigma$, the standard deviation of a group on the $E$ axis. "
   ]
  },
  {
   "cell_type": "markdown",
   "id": "5132ecd8-8f92-4ed9-a448-c82848d2bab0",
   "metadata": {
    "slideshow": {
     "slide_type": "fragment"
    },
    "tags": []
   },
   "source": [
    "By simply taking the standard deviation, we assume the groups are rectangular-shaped."
   ]
  },
  {
   "cell_type": "markdown",
   "id": "365d30c6-e61e-43c2-a87b-19fc46383095",
   "metadata": {
    "slideshow": {
     "slide_type": "fragment"
    },
    "tags": []
   },
   "source": [
    "We then try for each small cluster to calculate the probability related to the Gaussian of each large cluster.  "
   ]
  },
  {
   "cell_type": "markdown",
   "id": "afda6c00-9c63-4c44-ad7c-3cd84aa079bb",
   "metadata": {
    "slideshow": {
     "slide_type": "fragment"
    },
    "tags": []
   },
   "source": [
    "The small cluster is added to the large clusters whose Gaussian gives the highest probability. "
   ]
  },
  {
   "cell_type": "markdown",
   "id": "66c2b74e-8236-49bd-86d4-6f4543a35b44",
   "metadata": {
    "slideshow": {
     "slide_type": "subslide"
    },
    "tags": []
   },
   "source": [
    "__Technical note :__\n",
    "\n",
    "We construct a vector whose dimension is the number of large clusters $N$.\n",
    "\n",
    "We have two vectors of dimension $N$ with the mean value $\\mu$ and the standard deviation in $\\Delta E$ noted $\\sigma$ :\n",
    "\n",
    "\\begin{align}\n",
    "\\begin{split}\n",
    "\\{\\hat{\\mu},\\hat{\\sigma}\\}\n",
    "\\end{split}\n",
    "\\end{align}\n",
    "\n",
    "The vector $\\mu$ is constructed as follows:\n",
    "\n",
    "\\begin{align}\n",
    "\\begin{split}\n",
    "\\hat{\\mu} = \\hat{\\Delta E}\\{\\hat{a},\\hat{b},\\hat{c}\\}(E)\n",
    "\\end{split}\n",
    "\\end{align}\n",
    "\n",
    "where $\\{\\hat{a},\\hat{b},\\hat{c}\\}$ is a set containing each of the model parameters fitted to the set of large clusters as a vector. "
   ]
  },
  {
   "cell_type": "markdown",
   "id": "10df1842-2128-4d89-96c8-d0cc5f8fe954",
   "metadata": {
    "slideshow": {
     "slide_type": "subslide"
    },
    "tags": []
   },
   "source": [
    "We then put all this in a gausian $\\hat{\\mathcal G}$ :\n",
    "\n",
    "\\begin{align}\n",
    "\\begin{split}\n",
    "\\hat{\\mathcal G}\\{\\hat{\\mu},\\hat{\\sigma}\\}(E) \n",
    "\\end{split}\n",
    "\\end{align}\n",
    "\n",
    "The association index of a cluster of coordinates $E$ is given by the result of the function $argmax$ over $\\hat{\\mathcal G}$."
   ]
  },
  {
   "cell_type": "markdown",
   "id": "657f44cf-4de1-428c-a912-790c727e12e4",
   "metadata": {
    "slideshow": {
     "slide_type": "fragment"
    },
    "tags": []
   },
   "source": [
    "Once the groups are formed, we can estimate the quality of the model via the coefficient $R^2$ and the value $MSE$."
   ]
  },
  {
   "cell_type": "markdown",
   "id": "a46a1247-82b1-4708-8d6b-2ac9200af7b4",
   "metadata": {
    "slideshow": {
     "slide_type": "subslide"
    },
    "tags": []
   },
   "source": [
    "__Technical note :__\n",
    "\n",
    "The coefficient $R^2$, also called _coefficient of determination_ is formally defined as follows:\n",
    "\n",
    "\\begin{align}\n",
    "\\begin{split}\n",
    "R^2 = 1-\\frac{\\sum^n_i(y_i-Y_i)}{\\sum^n_i(y_i-\\bar{y})}\n",
    "\\end{split}\n",
    "\\end{align}"
   ]
  },
  {
   "cell_type": "markdown",
   "id": "b8ec243c-8237-49a4-ab58-35b0b14b2e9f",
   "metadata": {
    "slideshow": {
     "slide_type": "fragment"
    },
    "tags": []
   },
   "source": [
    "where $y_i$ is an observation, $bar{y}$ the arithmetic mean of the observations and $Y_i$ a model associated to $y_i$."
   ]
  },
  {
   "cell_type": "markdown",
   "id": "22972bc2-da55-4fdb-b247-e79f6ecba5f6",
   "metadata": {
    "slideshow": {
     "slide_type": "fragment"
    },
    "tags": []
   },
   "source": [
    "When the coefficient is $1$ the reproduction is perfect, beyond 1 or below $0$, the model is worse than a constant. Between $0$ and $1$, we estimate the quality of the model used. "
   ]
  },
  {
   "cell_type": "markdown",
   "id": "9b0e14a8-c97f-4d7f-bae5-f4e9b95c81ac",
   "metadata": {
    "slideshow": {
     "slide_type": "subslide"
    },
    "tags": []
   },
   "source": [
    "The $MSE$ value, also called _mean square error_ is formally defined as follows:\n",
    "\n",
    "\\begin{align}\n",
    "\\begin{split}\n",
    "MSE = \\mathbb E \\left[\\left(\\hat{Y}-\\hat{y}\\right)^2\\right]\n",
    "\\end{split}\n",
    "\\end{align}\n",
    "\n",
    "where $\\mathbb E$ is the expectation of the model, $\\hat{Y}$ and $\\hat{y}$ the data and prediction vectors of the model."
   ]
  },
  {
   "cell_type": "markdown",
   "id": "840b62ab-6ba1-47a6-b17a-b1f7c73c03ce",
   "metadata": {
    "slideshow": {
     "slide_type": "slide"
    },
    "tags": []
   },
   "source": [
    "#### __$R^2$ and $MSE$ of the $Si-Si$ card, for a $^{48}Ca$ beam__"
   ]
  },
  {
   "cell_type": "markdown",
   "id": "37af6b87-c5df-4ef7-bba5-035b4f574466",
   "metadata": {
    "slideshow": {
     "slide_type": "fragment"
    },
    "tags": []
   },
   "source": [
    "<center><img src=\"./R2_Si-Si_Ca.png\" width=\"350\">  <img src=\"./MSE_Si-Si_Ca.png\" width=\"350\"></center>"
   ]
  },
  {
   "cell_type": "markdown",
   "id": "3853197f-dd2f-49ca-b2ec-20d539eeb1cb",
   "metadata": {
    "slideshow": {
     "slide_type": "slide"
    },
    "tags": []
   },
   "source": [
    "#### __$R^2$ and $MSE$ of the $Si-Si$ card, for a $^{84}Kr$ beam__  "
   ]
  },
  {
   "cell_type": "markdown",
   "id": "e276e11f-a25e-42c4-8a04-8d1c6ec6b2cb",
   "metadata": {
    "slideshow": {
     "slide_type": "fragment"
    },
    "tags": []
   },
   "source": [
    "<center><img src=\"./R2_Si-Si_Kr.png\" width=\"350\">  <img src=\"./MSE_Si-Si_Kr.png\" width=\"350\"></center>"
   ]
  },
  {
   "cell_type": "markdown",
   "id": "39cfbbea-3d59-4381-a42c-aa73b57e5772",
   "metadata": {
    "slideshow": {
     "slide_type": "slide"
    },
    "tags": []
   },
   "source": [
    "#### __$R^2$ and $MSE$ of the $Si-CsI$ card, for a $^{48}Ca$ beam__ "
   ]
  },
  {
   "cell_type": "markdown",
   "id": "40587e10-382f-479f-b309-98e8673e2ead",
   "metadata": {
    "slideshow": {
     "slide_type": "fragment"
    },
    "tags": []
   },
   "source": [
    "<center><img src=\"./R2_Si-CsI_Ca.png\" width=\"350\">  <img src=\"./MSE_Si-CsI_Ca.png\" width=\"350\"></center>"
   ]
  },
  {
   "cell_type": "markdown",
   "id": "44ecc4a0-a065-45da-96a2-756d89b6f2b3",
   "metadata": {
    "slideshow": {
     "slide_type": "fragment"
    },
    "tags": []
   },
   "source": [
    "The scale for the $MSE$ value is logarithmic."
   ]
  },
  {
   "cell_type": "markdown",
   "id": "f7c91dbb-251d-4896-b63e-a7c1b83bce03",
   "metadata": {
    "slideshow": {
     "slide_type": "slide"
    },
    "tags": []
   },
   "source": [
    "The value of $R^2$ tells us overall that the groups follow the pattern. "
   ]
  },
  {
   "cell_type": "markdown",
   "id": "7e55338a-765e-4121-91ff-f2668e2fa741",
   "metadata": {
    "slideshow": {
     "slide_type": "fragment"
    },
    "tags": []
   },
   "source": [
    "We will now remove the anomalies by looking at the population distribution of the coefficients. The minority and extreme populations are shunned."
   ]
  },
  {
   "cell_type": "markdown",
   "id": "6ffdb225-5332-49b7-a693-11443977da9d",
   "metadata": {
    "slideshow": {
     "slide_type": "slide"
    },
    "tags": []
   },
   "source": [
    "#### __Population of $a,b,c$ of the $Si-Si$ map, for a $^{48}Ca$ beam__  "
   ]
  },
  {
   "cell_type": "markdown",
   "id": "4ff68f97-f44a-46b4-a857-f1309e3b95b9",
   "metadata": {
    "slideshow": {
     "slide_type": "fragment"
    },
    "tags": []
   },
   "source": [
    "<center><img src=\"./Modeli_population_a_Si-Si_Ca.png\" width=\"250\"> <img src=\"./Modeli_population_b_Si-Si_Ca.png\" width=\"250\"> <img src=\"./Modeli_population_c_Si-Si_Ca.png\" width=\"250\"></center>"
   ]
  },
  {
   "cell_type": "markdown",
   "id": "a4fbcb01-bb31-4a3b-a07b-533a8c000049",
   "metadata": {
    "slideshow": {
     "slide_type": "fragment"
    },
    "tags": []
   },
   "source": [
    "The percentile of separation is $95^\\text{th}$."
   ]
  },
  {
   "cell_type": "markdown",
   "id": "01410c35-c73b-402b-afdd-2c8c2c09214f",
   "metadata": {
    "slideshow": {
     "slide_type": "slide"
    },
    "tags": []
   },
   "source": [
    "#### __Population of $a,b,c$ of the $Si-Si$ map, for a $^{84}Kr$ beam__  "
   ]
  },
  {
   "cell_type": "markdown",
   "id": "e1991254-9469-404f-a2b2-ab49dc3a7c32",
   "metadata": {
    "slideshow": {
     "slide_type": "fragment"
    },
    "tags": []
   },
   "source": [
    "<center><img src=\"./Modeli_population_a_Si-Si_Kr.png\" width=\"250\"> <img src=\"./Modeli_population_b_Si-Si_Kr.png\" width=\"250\"> <img src=\"./Modeli_population_c_Si-Si_Kr.png\" width=\"250\"></center>"
   ]
  },
  {
   "cell_type": "markdown",
   "id": "c656e6a1-ea61-4736-90e5-b823b381c4fd",
   "metadata": {
    "slideshow": {
     "slide_type": "fragment"
    },
    "tags": []
   },
   "source": [
    "The percentile of separation is $90^\\text{th}$."
   ]
  },
  {
   "cell_type": "markdown",
   "id": "cc919832-f735-4769-92c0-92efbab92532",
   "metadata": {
    "slideshow": {
     "slide_type": "slide"
    },
    "tags": []
   },
   "source": [
    "#### __Population of $a,b,c$ of the $Si-CsI$ map, for a $^{48}Ca$ beam__    "
   ]
  },
  {
   "cell_type": "markdown",
   "id": "c66e4d46-b5f3-468d-b0d7-957fac00e4fc",
   "metadata": {
    "slideshow": {
     "slide_type": "fragment"
    },
    "tags": []
   },
   "source": [
    "<center><img src=\"./Modeli_population_a_Si-CsI_Ca.png\" width=\"250\"> <img src=\"./Modeli_population_b_Si-CsI_Ca.png\" width=\"250\"> <img src=\"./Modeli_population_c_Si-CsI_Ca.png\" width=\"250\"></center>"
   ]
  },
  {
   "cell_type": "markdown",
   "id": "06b7a557-d94a-40db-8e48-787b95f8aa42",
   "metadata": {
    "slideshow": {
     "slide_type": "fragment"
    },
    "tags": []
   },
   "source": [
    "The percentile of separation is $99^\\text{th}$."
   ]
  },
  {
   "cell_type": "markdown",
   "id": "29f382c6-2e1c-4c50-83f5-dc2e33aa868a",
   "metadata": {
    "slideshow": {
     "slide_type": "slide"
    },
    "tags": []
   },
   "source": [
    "#### __$Si-Si$ map, for a $^{48}Ca$ beam__ "
   ]
  },
  {
   "cell_type": "markdown",
   "id": "38c6c21a-de08-4cb9-a982-20e1d76d6cb0",
   "metadata": {
    "slideshow": {
     "slide_type": "fragment"
    },
    "tags": []
   },
   "source": [
    "<center><img src=\"./Modeli_Si-Si_Ca.png\" width=\"600\"></center>"
   ]
  },
  {
   "cell_type": "markdown",
   "id": "f8260ecd-c832-480c-9ee4-d71a916d3707",
   "metadata": {
    "slideshow": {
     "slide_type": "fragment"
    },
    "tags": []
   },
   "source": [
    "In __<font color=Black>black</font>__, the groups that were ousted."
   ]
  },
  {
   "cell_type": "markdown",
   "id": "119921c4-a564-4dc3-bcb1-b21486f7a31d",
   "metadata": {
    "slideshow": {
     "slide_type": "slide"
    },
    "tags": []
   },
   "source": [
    "#### __$Si-Si$ map, for a $^{84}Kr$ beam__ "
   ]
  },
  {
   "cell_type": "markdown",
   "id": "c99c5b62-6828-4fb5-ba1a-d7ccd2b02feb",
   "metadata": {
    "slideshow": {
     "slide_type": "fragment"
    },
    "tags": []
   },
   "source": [
    "<center><img src=\"./Modeli_Si-Si_Kr.png\" width=\"600\"></center>"
   ]
  },
  {
   "cell_type": "markdown",
   "id": "4cfb23f2-15ab-4cd9-8586-6da155798774",
   "metadata": {
    "slideshow": {
     "slide_type": "slide"
    },
    "tags": []
   },
   "source": [
    "#### __$Si-CsI$ map, for a $^{48}Ca$ beam__ "
   ]
  },
  {
   "cell_type": "markdown",
   "id": "04f06141-5660-476f-990c-afce1a4cadd3",
   "metadata": {
    "slideshow": {
     "slide_type": "fragment"
    },
    "tags": []
   },
   "source": [
    "<center><img src=\"./Modeli_Si-CsI_Ca.png\" width=\"600\"></center>"
   ]
  },
  {
   "cell_type": "markdown",
   "id": "5e1639a3-ac0e-4d5b-bd3d-bca3dcf03d42",
   "metadata": {
    "slideshow": {
     "slide_type": "slide"
    },
    "tags": []
   },
   "source": [
    "## __Linearization__"
   ]
  },
  {
   "cell_type": "markdown",
   "id": "1df4ea63-0b5b-4ea6-9ce9-f8ed452416fe",
   "metadata": {
    "slideshow": {
     "slide_type": "fragment"
    },
    "tags": []
   },
   "source": [
    "Now that we have a nice collection of lines, we can proceed with the linearization. We first make a change of coordinates approximating a projection. Then we build a surface in the parameter space in order to propose an evolution on the set of $E-\\Delta E$ values. "
   ]
  },
  {
   "cell_type": "markdown",
   "id": "4060a9d4-ab85-483b-b0a4-30ba311710fb",
   "metadata": {
    "slideshow": {
     "slide_type": "fragment"
    },
    "tags": []
   },
   "source": [
    "The correction by this surface will linearize the map."
   ]
  },
  {
   "cell_type": "markdown",
   "id": "2fb6dd38-e262-4e10-a493-c3d02701a4b1",
   "metadata": {
    "slideshow": {
     "slide_type": "slide"
    },
    "tags": []
   },
   "source": [
    "This work is like doing a geographer's job on our map and moving from one representation to another more suitable one :"
   ]
  },
  {
   "cell_type": "markdown",
   "id": "21d84912-a20d-4b2a-8169-e88878493362",
   "metadata": {
    "slideshow": {
     "slide_type": "fragment"
    },
    "tags": []
   },
   "source": [
    "<center><img src=\"./Linear_globe.jpg\" width=\"250\"> <img src=\"./Linear_map.jpg\" width=\"250\"></center>"
   ]
  },
  {
   "cell_type": "markdown",
   "id": "0ea8e569-e82f-495b-a6cb-68cba537ec06",
   "metadata": {
    "slideshow": {
     "slide_type": "slide"
    },
    "tags": []
   },
   "source": [
    "### __Construction of the reciprocal surface__"
   ]
  },
  {
   "cell_type": "markdown",
   "id": "aabdbb5d-8551-43d7-967b-a8c583d8d3c4",
   "metadata": {
    "slideshow": {
     "slide_type": "fragment"
    },
    "tags": []
   },
   "source": [
    "We transform our map as follows :\n",
    "\n",
    "\\begin{align}\n",
    "\\begin{split}\n",
    "(E,\\Delta E) \\to (E, \\log(\\Delta E))\n",
    "\\end{split}\n",
    "\\end{align}\n",
    "\n",
    "The application of this function amounts here to applying a representation kernel that we will note $\\ker(\\Delta E)$."
   ]
  },
  {
   "cell_type": "markdown",
   "id": "470326af-99db-42fd-be12-e3f7ed38b0bf",
   "metadata": {
    "slideshow": {
     "slide_type": "fragment"
    },
    "tags": []
   },
   "source": [
    "This transformation by a kernel on the $\\Delta E$ axis, makes a comfortable approximation :\n",
    "\"In this space we can assume our curves representing charges and masses as straight lines.\""
   ]
  },
  {
   "cell_type": "markdown",
   "id": "d265ee2c-8dc1-4784-accb-89b381a49faf",
   "metadata": {
    "slideshow": {
     "slide_type": "fragment"
    },
    "tags": []
   },
   "source": [
    "_Nota Bene : The exact solution is found in the next version of __Genesis__ which is being finalized_."
   ]
  },
  {
   "cell_type": "markdown",
   "id": "7144e2b8-7616-4fdf-b5ef-12c3fc12958a",
   "metadata": {
    "slideshow": {
     "slide_type": "slide"
    },
    "tags": []
   },
   "source": [
    "#### __Map $Si-Si$, for a $^{48}Ca$ beam in the kernel__."
   ]
  },
  {
   "cell_type": "markdown",
   "id": "ac1d900c-4aa4-4ff3-855f-3160b7bff193",
   "metadata": {
    "slideshow": {
     "slide_type": "fragment"
    },
    "tags": []
   },
   "source": [
    "<center><img src=\"./Linear_Si-Si_Ca.png\" width=\"500\"></center>"
   ]
  },
  {
   "cell_type": "markdown",
   "id": "1cc847cd-8fc3-42ce-85d4-3441a0c0c37a",
   "metadata": {
    "slideshow": {
     "slide_type": "fragment"
    },
    "tags": []
   },
   "source": [
    "The extension of the lines gives an idea of the area that was projected on our map."
   ]
  },
  {
   "cell_type": "markdown",
   "id": "09492833-effd-4c79-99fb-1ff2d43fc0c5",
   "metadata": {
    "slideshow": {
     "slide_type": "slide"
    },
    "tags": []
   },
   "source": [
    "####  __Map $Si-Si$, for a $^{84}Kr$ beam in the kernel__."
   ]
  },
  {
   "cell_type": "markdown",
   "id": "8727f3c0-c9a8-4779-ac63-d1a530701fa5",
   "metadata": {
    "slideshow": {
     "slide_type": "fragment"
    },
    "tags": []
   },
   "source": [
    "<center><img src=\"./Linear_Si-Si_Kr.png\" width=\"500\"></center>"
   ]
  },
  {
   "cell_type": "markdown",
   "id": "4f76db95-5892-4dc8-950d-c908654e734f",
   "metadata": {
    "slideshow": {
     "slide_type": "slide"
    },
    "tags": []
   },
   "source": [
    "#### __Map $Si-CsI$, for a $^{48}Ca$ beam in the kernel__."
   ]
  },
  {
   "cell_type": "markdown",
   "id": "d1612e84-de17-4532-bd91-225ec593d4ab",
   "metadata": {
    "slideshow": {
     "slide_type": "fragment"
    },
    "tags": []
   },
   "source": [
    "<center><img src=\"./Linear_Si-CsI_Ca.png\" width=\"500\"></center>"
   ]
  },
  {
   "cell_type": "markdown",
   "id": "bf6798b2-921a-4c46-9eb3-c956da215964",
   "metadata": {
    "slideshow": {
     "slide_type": "slide"
    },
    "tags": []
   },
   "source": [
    "Because of a different surface and persistent anomalies. We will leave it at that with the $Si-CsI$ maps during this presentation."
   ]
  },
  {
   "cell_type": "markdown",
   "id": "9600027a-cacc-4fe0-b241-a15e99c12c62",
   "metadata": {
    "slideshow": {
     "slide_type": "fragment"
    },
    "tags": []
   },
   "source": [
    "Now that we have an idea of what is going on in the kernel, we construct for the $Si-Si$ map the projected surface equation:\n",
    "\n",
    "\\begin{align}\n",
    "\\begin{split}\n",
    "\\beta\\frac{E}{\\Omega}-\\alpha\\ker(\\Delta E)+\\ln(\\Omega) = 0\n",
    "\\end{split}\n",
    "\\end{align}\n",
    "\n",
    "where $\\Omega$ is a new dimension, $\\alpha$ and $\\beta$ are fitting coefficients."
   ]
  },
  {
   "cell_type": "markdown",
   "id": "b834f576-6fd5-4cc1-8999-68e77bb1a091",
   "metadata": {
    "slideshow": {
     "slide_type": "fragment"
    },
    "tags": []
   },
   "source": [
    "To describe this $\\Omega$ dimension, we use the parameters of a $ax+b$ :\n",
    "\n",
    "\\begin{align}\n",
    "\\begin{split}\n",
    "\\begin{cases}\n",
    "a &= \\frac{1}{\\Omega}\\\\\n",
    "b &= \\ln(\\Omega)\n",
    "\\end{cases}\n",
    "\\end{split}\n",
    "\\end{align}"
   ]
  },
  {
   "cell_type": "markdown",
   "id": "28cadd3e-13e8-4adf-8a3a-8480394d6d1c",
   "metadata": {
    "slideshow": {
     "slide_type": "slide"
    },
    "tags": []
   },
   "source": [
    "#### __Space $(a,E,\\ker(\\Delta E))$ of the $Si-Si$ map, for a $^{48}Ca$ beam__  "
   ]
  },
  {
   "cell_type": "markdown",
   "id": "dfdf9058-4b9c-4188-9f06-ebf9ce3fe7ac",
   "metadata": {
    "slideshow": {
     "slide_type": "fragment"
    },
    "tags": []
   },
   "source": [
    "<center><img src=\"./Linear_surface_Si-Si_Ca.png\" width=\"350\">  <img src=\"./Linear_scatter_Si-Si_Ca.png\" width=\"350\"></center>"
   ]
  },
  {
   "cell_type": "markdown",
   "id": "d64d7632-f8c1-4caf-95ef-83875649f9cb",
   "metadata": {
    "slideshow": {
     "slide_type": "fragment"
    },
    "tags": []
   },
   "source": [
    "The coefficient $R^2$ of this surface is $0.9938$ and the value of $MSE$ is $2.28\\times10^{-3}$"
   ]
  },
  {
   "cell_type": "markdown",
   "id": "67e799ca-0c02-4967-b246-d5a57eada3f1",
   "metadata": {
    "slideshow": {
     "slide_type": "slide"
    },
    "tags": []
   },
   "source": [
    "#### __Space $(a,E,\\ker(\\Delta E))$ of the $Si-Si$ map, for a $^{84}Kr$ beam__  "
   ]
  },
  {
   "cell_type": "markdown",
   "id": "490f899f-60fc-4918-9d7d-539cbacd2373",
   "metadata": {
    "slideshow": {
     "slide_type": "fragment"
    },
    "tags": []
   },
   "source": [
    "<center><img src=\"./Linear_surface_Si-Si_Kr.png\" width=\"350\">  <img src=\"./Linear_scatter_Si-Si_Kr.png\" width=\"350\"></center>"
   ]
  },
  {
   "cell_type": "markdown",
   "id": "bfa5e961-dfa1-4743-9505-b0c04c204fb1",
   "metadata": {
    "slideshow": {
     "slide_type": "fragment"
    },
    "tags": []
   },
   "source": [
    "The coefficient $R^2$ of this surface is $0.9949$ and the value of $MSE$ is $2.376\\times10^{-3}$"
   ]
  },
  {
   "cell_type": "markdown",
   "id": "8d4192f8-dd66-49f2-ad51-ae5eab8445ae",
   "metadata": {
    "slideshow": {
     "slide_type": "slide"
    },
    "tags": []
   },
   "source": [
    "### __Projection of the reciprocal surface__"
   ]
  },
  {
   "cell_type": "markdown",
   "id": "29f5f136-72fe-4c5d-9790-bba3ffc16794",
   "metadata": {
    "slideshow": {
     "slide_type": "fragment"
    },
    "tags": []
   },
   "source": [
    "Once the surface is described, we can correct our map $(E,\\Delta E)$ and propose a projection in new coordinates $(E,\\Delta E_0)$.\n",
    "\n",
    "The axis of the projection will be $(E,\\Delta E_0$)."
   ]
  },
  {
   "cell_type": "markdown",
   "id": "02ea0a74-1a29-413f-82e4-849dc979ef7b",
   "metadata": {
    "slideshow": {
     "slide_type": "slide"
    },
    "tags": []
   },
   "source": [
    "#### __Linearized map $Si-Si$, for a $^{48}Ca$ beam__ "
   ]
  },
  {
   "cell_type": "markdown",
   "id": "62de8751-b5ee-4c8f-87a9-727581a824a2",
   "metadata": {
    "slideshow": {
     "slide_type": "fragment"
    },
    "tags": []
   },
   "source": [
    "<center><img src=\"./Linear_final_Si-Si_Ca.png\" width=\"500\"></center>"
   ]
  },
  {
   "cell_type": "markdown",
   "id": "759aebec-7e97-4a91-80d9-2a1068520316",
   "metadata": {
    "slideshow": {
     "slide_type": "slide"
    },
    "tags": []
   },
   "source": [
    "#### __Linearized map $Si-Si$, for a $^{84}Kr$ beam__"
   ]
  },
  {
   "cell_type": "markdown",
   "id": "558bb1d2-731d-4db6-8156-8a522c5d9272",
   "metadata": {
    "slideshow": {
     "slide_type": "fragment"
    },
    "tags": []
   },
   "source": [
    "<center><img src=\"./Linear_final_Si-Si_Kr.png\" width=\"500\"></center>"
   ]
  },
  {
   "cell_type": "markdown",
   "id": "2da5dbb5-9264-488a-9d48-1ec8d02f268e",
   "metadata": {
    "slideshow": {
     "slide_type": "slide"
    },
    "tags": []
   },
   "source": [
    "<center><img src=\"./Zoom_Linear_final_Si-Si_Kr.png\" width=\"500\"></center>"
   ]
  },
  {
   "cell_type": "markdown",
   "id": "fe787857-a725-4c2d-ab4f-b3d0f4cee758",
   "metadata": {
    "slideshow": {
     "slide_type": "fragment"
    },
    "tags": []
   },
   "source": [
    "Good knowledge of the abstract geometry of the detector can compensate for errors in the grouping stage !"
   ]
  },
  {
   "cell_type": "markdown",
   "id": "e7008eb2-ce3b-4ef9-a0d8-b4307b6fccf6",
   "metadata": {
    "slideshow": {
     "slide_type": "slide"
    },
    "tags": []
   },
   "source": [
    "### __Projection on the linear axis__"
   ]
  },
  {
   "cell_type": "markdown",
   "id": "6f14fdca-0915-48bb-a16c-bac44c128d59",
   "metadata": {
    "slideshow": {
     "slide_type": "fragment"
    },
    "tags": []
   },
   "source": [
    "The data are then projected on the $\\Delta E_0$ axis."
   ]
  },
  {
   "cell_type": "markdown",
   "id": "cec7b39f-aa8a-4dd5-831a-359294b758e0",
   "metadata": {
    "slideshow": {
     "slide_type": "slide"
    },
    "tags": []
   },
   "source": [
    "We then identify distribution by distribution."
   ]
  },
  {
   "cell_type": "markdown",
   "id": "4cfcc0dd-ba4a-4efa-8fcd-01cea9e76d04",
   "metadata": {
    "slideshow": {
     "slide_type": "slide"
    },
    "tags": []
   },
   "source": [
    "#### __Distribution of the linearized $Si-Si$ map, for a $^{48}Ca$ beam__"
   ]
  },
  {
   "cell_type": "markdown",
   "id": "e6591adb-f9c8-4f44-9d76-8e5a02a9f798",
   "metadata": {},
   "source": [
    "<center><img src=\"./PID_Si1Si2_48Ca.png\" width=\"500\"></center>"
   ]
  },
  {
   "cell_type": "markdown",
   "id": "50389fc7-f01c-44cc-91bb-ca545c08d5b7",
   "metadata": {
    "slideshow": {
     "slide_type": "slide"
    },
    "tags": []
   },
   "source": [
    "#### __Distribution of the linearized $Si-Si$ map, for a $^{84}Kr$ beam__"
   ]
  },
  {
   "cell_type": "markdown",
   "id": "2350b0aa-85d4-4f8e-8b6d-e3b4bb2497d5",
   "metadata": {},
   "source": [
    "<center><img src=\"./PID_Si1Si2_129Kr_1.png\" width=\"250\"><img src=\"./PID_Si1Si2_129Kr_2.png\" width=\"250\"><img src=\"./PID_Si1Si2_129Kr_3.png\" width=\"250\"></center>"
   ]
  },
  {
   "cell_type": "markdown",
   "id": "2ec16a82-62e8-4b16-bcd3-d578efd2c1a1",
   "metadata": {
    "slideshow": {
     "slide_type": "slide"
    },
    "tags": []
   },
   "source": [
    "# <h2><center>Conclusion</center></h2>"
   ]
  },
  {
   "cell_type": "markdown",
   "id": "599e11a0-acb3-4805-b10b-3597bf740639",
   "metadata": {
    "slideshow": {
     "slide_type": "fragment"
    },
    "tags": []
   },
   "source": [
    "It can be seen that the projection is not perfect. It is a matter of understanding the topology and the abstract geometry of each detector."
   ]
  },
  {
   "cell_type": "markdown",
   "id": "1d3ae1e1-df18-43fa-9e22-465e0eb86e02",
   "metadata": {
    "slideshow": {
     "slide_type": "fragment"
    },
    "tags": []
   },
   "source": [
    "The body of the analysis is complete, the method development phase is over."
   ]
  },
  {
   "cell_type": "markdown",
   "id": "a3d62fd0-da0c-49ed-a85b-dba0ba47c895",
   "metadata": {
    "slideshow": {
     "slide_type": "fragment"
    },
    "tags": []
   },
   "source": [
    "So I just need to refine the geometry model."
   ]
  },
  {
   "cell_type": "markdown",
   "id": "52eefbd8-89e3-4b45-a356-64526bc86ff4",
   "metadata": {
    "slideshow": {
     "slide_type": "slide"
    },
    "tags": []
   },
   "source": [
    "I am currently working on the next version which fills the lack of linearity of the one presented. The next version will clearly lay out the kernel analysis sketched here. "
   ]
  },
  {
   "cell_type": "markdown",
   "id": "4dceebce-e32b-4efa-b944-14491dd612f6",
   "metadata": {
    "slideshow": {
     "slide_type": "fragment"
    },
    "tags": []
   },
   "source": [
    "The $Si-Si$ and $Si-CsI$ treatment is therefore identical to a topology model away."
   ]
  },
  {
   "cell_type": "markdown",
   "id": "992074d2-3161-4043-aba4-34608fbd559c",
   "metadata": {
    "slideshow": {
     "slide_type": "slide"
    },
    "tags": []
   },
   "source": [
    "# <h2><center>Outlook</center></h2>"
   ]
  },
  {
   "cell_type": "markdown",
   "id": "aad9a122-66a9-479e-9980-d1aac139c660",
   "metadata": {
    "slideshow": {
     "slide_type": "slide"
    },
    "tags": []
   },
   "source": [
    "## __$Genesis\\ 0.9$__"
   ]
  },
  {
   "cell_type": "markdown",
   "id": "7ff47a6c-9fc4-4d96-a526-c949ecdf0981",
   "metadata": {
    "slideshow": {
     "slide_type": "fragment"
    },
    "tags": []
   },
   "source": [
    "For the analysis $Genesis\\ 0.9$ the kernel model of linearization of the map is found. "
   ]
  },
  {
   "cell_type": "markdown",
   "id": "107c9eb9-f7e6-466c-85bf-be7523812a5e",
   "metadata": {
    "slideshow": {
     "slide_type": "fragment"
    },
    "tags": []
   },
   "source": [
    "Only the abstract geometry model of the detector remains to be finalized."
   ]
  },
  {
   "cell_type": "markdown",
   "id": "f56a86b6-4f7f-41a0-9c38-2ebecd68e8a7",
   "metadata": {
    "slideshow": {
     "slide_type": "slide"
    },
    "tags": []
   },
   "source": [
    "#### __Map $Si-Si$, for a $^{48}Ca$ beam in the kernel__"
   ]
  },
  {
   "cell_type": "markdown",
   "id": "9fc40f71-f5f9-476d-bdb0-f1017b166408",
   "metadata": {
    "slideshow": {
     "slide_type": "fragment"
    },
    "tags": []
   },
   "source": [
    "<center><img src=\"./Entrevue_Si-Si_Ca.png\" width=\"600\"></center>"
   ]
  },
  {
   "cell_type": "markdown",
   "id": "adc66350-3489-41ca-9e97-3600262bb560",
   "metadata": {
    "slideshow": {
     "slide_type": "slide"
    },
    "tags": []
   },
   "source": [
    "#### __Map $Si-Si$, for a $^{134}Kr$ beam in the core__"
   ]
  },
  {
   "cell_type": "markdown",
   "id": "e4961d16-f79c-49e1-9be4-893c089030f1",
   "metadata": {
    "slideshow": {
     "slide_type": "fragment"
    },
    "tags": []
   },
   "source": [
    "<center><img src=\"./Entrevue_Si-Si_Kr.png\" width=\"600\"></center>"
   ]
  },
  {
   "cell_type": "markdown",
   "id": "d7060b88-d9cc-4131-bb60-8d40b4121a28",
   "metadata": {
    "slideshow": {
     "slide_type": "slide"
    },
    "tags": []
   },
   "source": [
    "A kernel-based noise selection module will be implemented."
   ]
  },
  {
   "cell_type": "markdown",
   "id": "b0b6f54f-3b18-44fe-a52a-e4c45a10eede",
   "metadata": {
    "slideshow": {
     "slide_type": "fragment"
    },
    "tags": []
   },
   "source": [
    "To try my analysis, it will be added in my dataset :\n",
    "\n",
    "- the $LNS-2009$ experiment (full statistics)\n",
    "- the $E818$ experiment from last spring"
   ]
  },
  {
   "cell_type": "markdown",
   "id": "9c7b83dc-901f-4ae7-8a4b-a00df702654f",
   "metadata": {
    "slideshow": {
     "slide_type": "slide"
    },
    "tags": []
   },
   "source": [
    "## __Processing of $Si-CsI$ maps__"
   ]
  },
  {
   "cell_type": "markdown",
   "id": "72bbd9d3-d4ad-41c1-b4e9-9741772be98c",
   "metadata": {
    "slideshow": {
     "slide_type": "fragment"
    },
    "tags": []
   },
   "source": [
    "The kernel model for these maps seems to be the same as the $Si-CsI$ one but the topology is totally different. It will be necessary to treat them separately. "
   ]
  },
  {
   "cell_type": "markdown",
   "id": "51fcd5a6-7a77-431a-a7d2-9c4dab8c4f51",
   "metadata": {
    "slideshow": {
     "slide_type": "fragment"
    },
    "tags": []
   },
   "source": [
    "They will be processed after the release of __Genesis 1.0__ for $Si-Si$."
   ]
  },
  {
   "cell_type": "markdown",
   "id": "b9ca402b-2e0c-487f-889f-b745c7796d33",
   "metadata": {
    "slideshow": {
     "slide_type": "slide"
    },
    "tags": []
   },
   "source": [
    "# <h2><center>Bibliography</center></h2>"
   ]
  },
  {
   "cell_type": "markdown",
   "id": "ec9300f7-0788-429c-84a2-11f43c546780",
   "metadata": {
    "slideshow": {
     "slide_type": "fragment"
    },
    "tags": []
   },
   "source": [
    "- Harris, C.R., Millman, K.J., van der Walt, S.J. et al. \n",
    "  Array programming with NumPy. \n",
    "  Nature 585, 357–362 (2020).\n",
    "- Pauli Virtanen, Ralf Gommers, Travis E. Oliphant, Matt Haberland, Tyler       Reddy, David Cournapeau, Evgeni Burovski, Pearu Peterson, Warren Weckesser,   Jonathan Bright, Stéfan J. van der Walt, Matthew Brett, Joshua Wilson, K.     Jarrod Millman, Nikolay Mayorov, Andrew R. J. Nelson, Eric Jones, Robert     Kern, Eric Larson, CJ Carey, İlhan Polat, Yu Feng, Eric W. Moore, Jake       VanderPlas, Denis Laxalde, Josef Perktold, Robert Cimrman, Ian Henriksen,     E.A. Quintero, Charles R Harris, Anne M. Archibald, Antônio H. Ribeiro,       Fabian Pedregosa, Paul van Mulbregt, and SciPy 1.0 Contributors. (2020)\n",
    "  SciPy 1.0: Fundamental Algorithms for Scientific Computing in Python. \n",
    "  Nature Methods, 17(3), 261-272.\n",
    "- Andrei Novikov : https://pyclustering.github.io/docs/0.9.0/html/d2/da9/namespacepyclustering_1_1cluster_1_1clique.html"
   ]
  },
  {
   "cell_type": "markdown",
   "id": "40a7d6c8-605f-445d-b492-6c01ab870fa3",
   "metadata": {
    "slideshow": {
     "slide_type": "slide"
    },
    "tags": []
   },
   "source": [
    "# <h2><center>Coordonnées</center></h2>"
   ]
  },
  {
   "cell_type": "markdown",
   "id": "b806c857-a17a-4177-94f9-83ce76d889c0",
   "metadata": {
    "slideshow": {
     "slide_type": "fragment"
    },
    "tags": []
   },
   "source": [
    "<center><img src=\"./Business_Card.jpeg\" width=\"500\"></center>"
   ]
  }
 ],
 "metadata": {
  "celltoolbar": "Diaporama",
  "hide_input": false,
  "kernelspec": {
   "display_name": "Python 3 (ipykernel)",
   "language": "python",
   "name": "python3"
  },
  "language_info": {
   "codemirror_mode": {
    "name": "ipython",
    "version": 3
   },
   "file_extension": ".py",
   "mimetype": "text/x-python",
   "name": "python",
   "nbconvert_exporter": "python",
   "pygments_lexer": "ipython3",
   "version": "3.10.5"
  },
  "latex_envs": {
   "LaTeX_envs_menu_present": true,
   "autoclose": true,
   "autocomplete": true,
   "bibliofile": "biblio.bib",
   "cite_by": "apalike",
   "current_citInitial": 1,
   "eqLabelWithNumbers": true,
   "eqNumInitial": 1,
   "hotkeys": {
    "equation": "Ctrl-E",
    "itemize": "Ctrl-I"
   },
   "labels_anchors": false,
   "latex_user_defs": false,
   "report_style_numbering": false,
   "user_envs_cfg": false
  },
  "toc-autonumbering": false,
  "toc-showmarkdowntxt": false
 },
 "nbformat": 4,
 "nbformat_minor": 5
}
