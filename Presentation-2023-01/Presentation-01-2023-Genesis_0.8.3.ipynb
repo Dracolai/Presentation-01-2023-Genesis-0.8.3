{
 "cells": [
  {
   "cell_type": "markdown",
   "id": "c4305c85-4ea6-45b3-ba89-2805134b8f96",
   "metadata": {
    "slideshow": {
     "slide_type": "slide"
    }
   },
   "source": [
    "#  <h2><center>Genesis 0.8.3</center></h2>\n",
    "   <h2><center>☧ Edition Redemptoris ☧</center></h2>\n",
    "   <h4><center>Un Retour et des bonds avants</center><h4>\n",
    "    <center>par Valente Antonin</center>\n",
    "   <center><img src=\"./logo.png\" width=\"300\"></center><h4>\n",
    "   <center><img src=\"./Bandeau_logos_tutelles.png\" width=\"300\"></center><h4>"
   ]
  },
  {
   "cell_type": "markdown",
   "id": "7ea539d4-57ab-4c91-93fb-5581e8431546",
   "metadata": {
    "slideshow": {
     "slide_type": "slide"
    },
    "tags": []
   },
   "source": [
    "# <center>Sommaire</center>\n",
    "* [Introduction](#chapter_1)\n",
    "    * [Objectifs $\\&$ enjeux](#section_1_1)\n",
    "    * [Rappel des résultats finaux de stage](#section_1_2)\n",
    "    * [Brève bibliographie technique](#section_1_3)\n",
    "* [Genesis $0.8.3$, _Redemptoris_](#chapter_2)\n",
    "    * [Groupements des données](#section_2_1)\n",
    "        * [Visualisation des données](#subsection_2_1_1)\n",
    "        * [L'agglomération des données](#subsection_2_1_2)\n",
    "        * [Des agglomérats aux groupes](#subsection_2_1_3)\n",
    "    * [Linéarisation](#section_2_2)\n",
    "        * [Construction de la surface réciproque](#subsection_2_2_1)\n",
    "        * [Projection sur la surface réciproque](#subsection_2_2_2)\n",
    "        * [Projection sur l'axe linéaire](#subsection_2_2_3)\n",
    "* [Conclusion](#chapter_3)\n",
    "* [Perspectives](#chapter_4)\n",
    "* [Bibliographie](#chapter_5)"
   ]
  },
  {
   "cell_type": "markdown",
   "id": "0b29de03-f10d-4c37-92df-870cb2f7f362",
   "metadata": {
    "slideshow": {
     "slide_type": "slide"
    },
    "tags": []
   },
   "source": [
    "# <h2><center>Introduction</center></h2>"
   ]
  },
  {
   "cell_type": "markdown",
   "id": "005352b1-50a6-4a83-bf4c-f5b83e32e459",
   "metadata": {
    "slideshow": {
     "slide_type": "fragment"
    },
    "tags": []
   },
   "source": [
    "Le détecteur $INDRA-FAZIA$ produit, pour une expérience donnée, des cartes $E-\\Delta E$. "
   ]
  },
  {
   "cell_type": "markdown",
   "id": "445548a9-355a-420f-9f5f-caf04712b1cb",
   "metadata": {
    "slideshow": {
     "slide_type": "fragment"
    },
    "tags": []
   },
   "source": [
    "Par l'accumulation de points, nous avons l'émergence d'un motif statistique représentant le phénomène de dépôt d'énergie pour chaque charge et masse. "
   ]
  },
  {
   "cell_type": "markdown",
   "id": "76044f65-a011-4b8f-b2fb-bb7b35bd2b43",
   "metadata": {
    "slideshow": {
     "slide_type": "fragment"
    },
    "tags": []
   },
   "source": [
    "L'étiquetage de ces lignes, c'est-à-dire leur identification, nous donnera les niveaux de peuplements et leur densité. "
   ]
  },
  {
   "cell_type": "markdown",
   "id": "e0efa19b-952a-40fb-ab6c-88d8ad39ba83",
   "metadata": {
    "slideshow": {
     "slide_type": "fragment"
    },
    "tags": []
   },
   "source": [
    "La densité de peuplement de ces niveaux de masse et de charge est nécessaire à la compréhension des réactions."
   ]
  },
  {
   "cell_type": "markdown",
   "id": "d5958938-e21a-46a7-aa6e-269735cebe1e",
   "metadata": {
    "slideshow": {
     "slide_type": "slide"
    },
    "tags": []
   },
   "source": [
    "## __Objectifs $\\&$ enjeux__"
   ]
  },
  {
   "cell_type": "markdown",
   "id": "7372851e-e42a-4caf-8854-a299ec56593e",
   "metadata": {
    "slideshow": {
     "slide_type": "fragment"
    },
    "tags": []
   },
   "source": [
    "Mon projet $Genesis$ a pour but principal d'automatiser et d'améliorer l'analyse des cartes en corrélation $E-\\Delta E$."
   ]
  },
  {
   "cell_type": "markdown",
   "id": "f6308d4e-80e1-44a5-8498-8c578c349280",
   "metadata": {
    "slideshow": {
     "slide_type": "fragment"
    },
    "tags": []
   },
   "source": [
    "L'enjeu sera ici simplement avec une analyse fine de la physique du détecteur d'arriver à une linéarisation des cartes $E-\\Delta E$."
   ]
  },
  {
   "cell_type": "markdown",
   "id": "f5f0e77c-2e34-4435-8d90-a0ea1d28bab9",
   "metadata": {
    "slideshow": {
     "slide_type": "fragment"
    },
    "tags": []
   },
   "source": [
    "Pour cela quelques règles de bienséance :\n",
    "\n",
    "- estimation quantitative de la qualité des modèles employés et des erreurs\n",
    "- explicitation de l'ensemble des hypothèses et modèles utilisés pour arriver à mes fins\n",
    "- une analyse tractable sur un ordinateur de configuration modeste."
   ]
  },
  {
   "cell_type": "markdown",
   "id": "1cc2a9b9-eebc-4f8b-88e0-b762e0be5e65",
   "metadata": {
    "slideshow": {
     "slide_type": "slide"
    },
    "tags": []
   },
   "source": [
    "## __Rappel des résultats finaux de mon stage__"
   ]
  },
  {
   "cell_type": "markdown",
   "id": "b35c4fdc-7e49-4153-b3ee-94235e664a8c",
   "metadata": {
    "slideshow": {
     "slide_type": "fragment"
    },
    "tags": []
   },
   "source": [
    "Suite au stage, le seul résultat probant fut la distinction des lignes en $Z$. "
   ]
  },
  {
   "cell_type": "markdown",
   "id": "567de1e0-e8b6-46c8-afce-2e0f7cb3d3a2",
   "metadata": {
    "slideshow": {
     "slide_type": "fragment"
    },
    "tags": []
   },
   "source": [
    "Cette analyse fut menée pour deux cartes de l'expérience $FAZIA-Sym$. "
   ]
  },
  {
   "cell_type": "markdown",
   "id": "50b31c7a-e169-480b-9bd0-9ebc827cfa77",
   "metadata": {
    "slideshow": {
     "slide_type": "fragment"
    },
    "tags": []
   },
   "source": [
    "Le faisceau était composé de $^{48}Ca$ avec une énergie de $35\\ Mev/Nuc$."
   ]
  },
  {
   "cell_type": "markdown",
   "id": "4b3efee0-5ce7-48d3-9387-32bc54cc35ce",
   "metadata": {
    "slideshow": {
     "slide_type": "fragment"
    },
    "tags": []
   },
   "source": [
    "Le modèle de dépôt en énergie fut :\n",
    "\n",
    "\\begin{align}\n",
    "\\begin{split}\n",
    "\\Delta E(E) = \\frac{a}{E+b}+\\frac{c}{\\sqrt{E+d}}+e\\ln(E+1)\n",
    "\\end{split}\n",
    "\\end{align}"
   ]
  },
  {
   "cell_type": "markdown",
   "id": "9f9b6931-d3e6-49a0-9846-e34e6199cb9c",
   "metadata": {
    "slideshow": {
     "slide_type": "slide"
    },
    "tags": []
   },
   "source": [
    "#### __Carte $Si-Si$ avec analyse en $Z$__ "
   ]
  },
  {
   "cell_type": "markdown",
   "id": "4cefb799-1d97-442e-aff0-5854de9c87b9",
   "metadata": {
    "slideshow": {
     "slide_type": "fragment"
    },
    "tags": []
   },
   "source": [
    "<center><img src=\"./Résultat_stage_1.png\" width=\"450\"></center><h4>"
   ]
  },
  {
   "cell_type": "markdown",
   "id": "b81f5652-a3d4-481e-b632-6336c83fc2f0",
   "metadata": {
    "slideshow": {
     "slide_type": "fragment"
    },
    "tags": []
   },
   "source": [
    "En __noir__, est tracé la ligne de masse la plus peuplée et en __<font color=Red>rouge</font>__ la ligne $Z$ ajustée sur le groupe correspondant."
   ]
  },
  {
   "cell_type": "markdown",
   "id": "224ace61-26d4-4d1e-bcd7-a9640e749a13",
   "metadata": {
    "slideshow": {
     "slide_type": "fragment"
    },
    "tags": []
   },
   "source": [
    "Les différentes couleurs représentent __successivement__ un groupe de données caractérisé en $Z$. "
   ]
  },
  {
   "cell_type": "markdown",
   "id": "36d61606-755d-4781-9334-d35ade52d40e",
   "metadata": {
    "slideshow": {
     "slide_type": "slide"
    },
    "tags": []
   },
   "source": [
    "#### __Carte $Si-CsI$ avec analyse en $Z$__ "
   ]
  },
  {
   "cell_type": "markdown",
   "id": "9c30f482-b6b1-4572-bc3f-c390e1267dff",
   "metadata": {
    "slideshow": {
     "slide_type": "fragment"
    },
    "tags": []
   },
   "source": [
    "<center><img src=\"./Résultat_stage_2.png\" width=\"500\"></center><h4>"
   ]
  },
  {
   "cell_type": "markdown",
   "id": "5a72dfde-5b63-40df-b853-7d7e8bd003f5",
   "metadata": {
    "slideshow": {
     "slide_type": "slide"
    },
    "tags": []
   },
   "source": [
    "<center><img src=\"./Résultat_stage_2.png\" width=\"350\"> <img src=\"./Résultat_stage_1.png\" width=\"350\"></center>"
   ]
  },
  {
   "cell_type": "markdown",
   "id": "49555a38-6463-4d01-bfd9-668da40988be",
   "metadata": {
    "slideshow": {
     "slide_type": "fragment"
    },
    "tags": []
   },
   "source": [
    "Ce travail a permis de faire une étude préliminaire en agrégeant les premiers outils et la méthode permettant la résolution de ce problème."
   ]
  },
  {
   "cell_type": "markdown",
   "id": "cf37517b-c0de-4ce9-a8c4-c3a215382660",
   "metadata": {
    "slideshow": {
     "slide_type": "fragment"
    },
    "tags": []
   },
   "source": [
    "Cependant, il reste encore beaucoup à faire..."
   ]
  },
  {
   "cell_type": "markdown",
   "id": "3b7d9975-3520-4c2a-a90c-656e4f1e70ed",
   "metadata": {
    "slideshow": {
     "slide_type": "slide"
    },
    "tags": []
   },
   "source": [
    "## __Brève bibliographie technique__"
   ]
  },
  {
   "cell_type": "markdown",
   "id": "20bf1c67-dea4-478e-af85-fe3a2946e2d4",
   "metadata": {
    "slideshow": {
     "slide_type": "fragment"
    },
    "tags": []
   },
   "source": [
    "Dans cette section, je vais m'atteler à détailler brièvement chaque étape technique permettant de conduire aux résultats ci-dessus."
   ]
  },
  {
   "cell_type": "markdown",
   "id": "dc8f6ca8-8675-413f-8c7f-f16f4a1baf5a",
   "metadata": {
    "slideshow": {
     "slide_type": "fragment"
    },
    "tags": []
   },
   "source": [
    "Comme bibliothèque $Python$ j'utilise :\n",
    "\n",
    "- _Numpy_ et _Scipy_, pour l'ensemble des calculs\n",
    "- _Pyclustering_, pour l'algorithme $CLIQUE$\n",
    "- _Matplotlib_, pour l'interface graphique.\n",
    "\n",
    "Comme méthode d'ajustement, j'ai usité simplement la _méthode des moindres carrés_.<br>\n",
    "Pour le reste, c'est un assemblage de techniques de calcul standard."
   ]
  },
  {
   "cell_type": "markdown",
   "id": "81cbd413-07ce-4bd9-8196-26cd2763f080",
   "metadata": {
    "slideshow": {
     "slide_type": "slide"
    },
    "tags": []
   },
   "source": [
    "#  <h2><center>Genesis 0.8.3</center></h2> \n",
    "   <h2><center>☧ Edition Redemptoris ☧</center></h2>"
   ]
  },
  {
   "cell_type": "markdown",
   "id": "8d5e755d-9dd4-4a79-ae78-c469f2f13c02",
   "metadata": {
    "slideshow": {
     "slide_type": "fragment"
    },
    "tags": []
   },
   "source": [
    "L'analyse $Genesis$ est faite sur le lot de données :\n",
    "- $FAZIA-Sym$, pour un faisceau de $^{48}Ca$ en $Si-Si$\n",
    "- $FAZIA-Sym$, pour un faisceau de $^{48}Ca$ en $Si-CsI$\n",
    "- $LNS-2009$, pour un faisceau de $^{84}Kr$ en $Si-Si$ (statistique partielle)"
   ]
  },
  {
   "cell_type": "markdown",
   "id": "26ce94c1-01c3-4464-9cff-b1cd585e85f1",
   "metadata": {
    "slideshow": {
     "slide_type": "slide"
    },
    "tags": []
   },
   "source": [
    "## __Groupement des données__"
   ]
  },
  {
   "cell_type": "markdown",
   "id": "3bc048bf-fa0d-45d8-afa9-f2ec75d9d3e9",
   "metadata": {
    "slideshow": {
     "slide_type": "fragment"
    },
    "tags": []
   },
   "source": [
    "La première étape est de pouvoir récupérer les secteurs les plus denses en population et de les regrouper. "
   ]
  },
  {
   "cell_type": "markdown",
   "id": "0023b4ec-6480-4f9e-96b5-0377b961c30e",
   "metadata": {
    "slideshow": {
     "slide_type": "fragment"
    },
    "tags": []
   },
   "source": [
    "Pour cela j'usite d'un algorithme d'agglomération $CLIQUE$, prenant comme entrée une représentation en histogramme carré des données."
   ]
  },
  {
   "cell_type": "markdown",
   "id": "35ca8c63-5363-4ebf-854b-1b54b3f26128",
   "metadata": {
    "slideshow": {
     "slide_type": "fragment"
    },
    "tags": []
   },
   "source": [
    "On visualise l'ensemble de nos données d'entrée en histogramme de densité pour choisir le meilleur maillage.  "
   ]
  },
  {
   "cell_type": "markdown",
   "id": "59fdf5c6-4719-4966-bd88-ce7c26de9c57",
   "metadata": {
    "slideshow": {
     "slide_type": "slide"
    },
    "tags": []
   },
   "source": [
    "### __Visualisation des données__"
   ]
  },
  {
   "cell_type": "markdown",
   "id": "a6713e54-4de0-4ad9-a845-7e3f87b12e51",
   "metadata": {
    "slideshow": {
     "slide_type": "fragment"
    },
    "tags": []
   },
   "source": [
    "En amont, on regarde comment apparaissent les lignes de masse en fonction du maillage."
   ]
  },
  {
   "cell_type": "markdown",
   "id": "0d208be9-70ee-403c-aac5-02ab78241fb8",
   "metadata": {
    "slideshow": {
     "slide_type": "fragment"
    },
    "tags": []
   },
   "source": [
    "Le choix du maillage est phénoménologique. "
   ]
  },
  {
   "cell_type": "markdown",
   "id": "66b24ae4-8df7-4611-bd37-1b55ca82951f",
   "metadata": {
    "slideshow": {
     "slide_type": "fragment"
    },
    "tags": []
   },
   "source": [
    "On remarque que la meilleure façon de faire ressortir les lignes, c'est en utlisant le $90^{\\text{ème}}$ centile de la distribution des valeurs au sein de chaque pavé pour atteindre la valeur $14$."
   ]
  },
  {
   "cell_type": "markdown",
   "id": "297df383-ad73-4a67-a7fc-d2f9112a330f",
   "metadata": {
    "slideshow": {
     "slide_type": "slide"
    },
    "tags": []
   },
   "source": [
    "#### __Carte $Si-Si$, pour un faisceau de $^{48}Ca$__ "
   ]
  },
  {
   "cell_type": "markdown",
   "id": "47157895-bd1a-447e-8fda-0e0a140867fe",
   "metadata": {},
   "source": [
    "<center><img src=\"./Visualisation_Si-Si_Ca.png\" width=\"350\">  <img src=\"./Visualisation_Si-Si_Ca_proba.png\" width=\"350\"></center>"
   ]
  },
  {
   "cell_type": "markdown",
   "id": "e3f0b498-991e-4108-beae-d421def6fec3",
   "metadata": {
    "slideshow": {
     "slide_type": "fragment"
    },
    "tags": []
   },
   "source": [
    "Le motif __<font color=Yellow>jaune</font>__ donne le relief de la densité de population. "
   ]
  },
  {
   "cell_type": "markdown",
   "id": "fd349147-d77c-48fd-a9b6-ef63675b2e31",
   "metadata": {
    "slideshow": {
     "slide_type": "fragment"
    },
    "tags": []
   },
   "source": [
    "Le maillage est ici de $170^2$ pavés."
   ]
  },
  {
   "cell_type": "markdown",
   "id": "328cb8b1-5792-48fb-9661-d39c41ed5ffc",
   "metadata": {
    "slideshow": {
     "slide_type": "slide"
    },
    "tags": []
   },
   "source": [
    "#### __Carte $Si-Si$, pour un faisceau de $^{84}Kr$__ "
   ]
  },
  {
   "cell_type": "markdown",
   "id": "55afd33b-1190-45f4-864d-7fdc729fdbc9",
   "metadata": {
    "slideshow": {
     "slide_type": "fragment"
    },
    "tags": []
   },
   "source": [
    "<center><img src=\"./Visualisation_Si-Si_Kr.png\" width=\"350\"> <img src=\"./Visualisation_Si-Si_Kr_proba.png\" width=\"350\"></center>"
   ]
  },
  {
   "cell_type": "markdown",
   "id": "89898f33-55a8-449b-9bfc-7a1a6b6f3ef0",
   "metadata": {
    "slideshow": {
     "slide_type": "fragment"
    },
    "tags": []
   },
   "source": [
    "Le maillage est ici de $480^2$ pavés."
   ]
  },
  {
   "cell_type": "markdown",
   "id": "1824cf57-3429-4e81-ac82-43c4d9c83fb0",
   "metadata": {
    "slideshow": {
     "slide_type": "slide"
    },
    "tags": []
   },
   "source": [
    "#### __Carte $Si-CsI$, pour un faisceau de $^{48}Ca$__ "
   ]
  },
  {
   "cell_type": "markdown",
   "id": "4e53a199-4378-4f84-8318-f2fae7329477",
   "metadata": {
    "slideshow": {
     "slide_type": "fragment"
    },
    "tags": []
   },
   "source": [
    "<center><img src=\"./Visualisation_Si-CsI_Ca.png\" width=\"350\"> \n",
    "    <img src=\"./Visualisation_Si-CsI_Ca_proba.png\" width=\"350\"></center>"
   ]
  },
  {
   "cell_type": "markdown",
   "id": "0900a2b4-d28b-4335-b362-f2fb91db0997",
   "metadata": {
    "slideshow": {
     "slide_type": "fragment"
    },
    "tags": []
   },
   "source": [
    "Le maillage est ici de $265^2$ pavés."
   ]
  },
  {
   "cell_type": "markdown",
   "id": "5b7116fa-1a92-4303-b6d2-35cc45b71cc4",
   "metadata": {
    "slideshow": {
     "slide_type": "slide"
    },
    "tags": []
   },
   "source": [
    "### __L'agglomération des données__"
   ]
  },
  {
   "cell_type": "markdown",
   "id": "eec11d19-9e20-4eb8-92ae-0f32bd07cae2",
   "metadata": {
    "slideshow": {
     "slide_type": "fragment"
    },
    "tags": []
   },
   "source": [
    "On place désormais l'histogramme de représentation dans l'algorithme $CLIQUE$. "
   ]
  },
  {
   "cell_type": "markdown",
   "id": "6befe2c6-24cb-48ae-adc3-30228c416e92",
   "metadata": {
    "slideshow": {
     "slide_type": "fragment"
    },
    "tags": []
   },
   "source": [
    "En entrée, $CLIQUE$ l'algorithme prend un seuil constant qui vaudra ici la valeur du $90^{\\text{ème}}$ centile, c'est-à-dire $14$."
   ]
  },
  {
   "cell_type": "markdown",
   "id": "68c43c52-b48b-40b0-8097-860904846343",
   "metadata": {
    "slideshow": {
     "slide_type": "fragment"
    },
    "tags": []
   },
   "source": [
    "Il nous renvoie alors en sortie une collection d'agglomérats."
   ]
  },
  {
   "cell_type": "markdown",
   "id": "a347b396-a107-43cd-973c-7091a61d5a16",
   "metadata": {
    "slideshow": {
     "slide_type": "slide"
    },
    "tags": []
   },
   "source": [
    "#### __Carte $Si-Si$, pour un faisceau de $^{48}Ca$__ "
   ]
  },
  {
   "cell_type": "markdown",
   "id": "8c22ce04-3229-45cc-86a8-3714bed87531",
   "metadata": {
    "slideshow": {
     "slide_type": "fragment"
    },
    "tags": []
   },
   "source": [
    "<center><img src=\"./CLIQUE_Si-Si_Ca.png\" width=\"500\"></center>"
   ]
  },
  {
   "cell_type": "markdown",
   "id": "6b1cf4cf-3315-47ad-854a-f916f7bb6bc8",
   "metadata": {
    "slideshow": {
     "slide_type": "fragment"
    },
    "tags": []
   },
   "source": [
    "Ici chaque ensemble de points colorés est un agglomérat."
   ]
  },
  {
   "cell_type": "markdown",
   "id": "bf7150f5-daee-46d1-98a3-832b60669f29",
   "metadata": {
    "slideshow": {
     "slide_type": "slide"
    },
    "tags": []
   },
   "source": [
    "#### __Carte $Si-Si$, pour un faisceau de $^{84}Kr$__ "
   ]
  },
  {
   "cell_type": "markdown",
   "id": "2302789a-982c-44ce-a523-c9a32f6c7098",
   "metadata": {
    "slideshow": {
     "slide_type": "fragment"
    },
    "tags": []
   },
   "source": [
    "<center><img src=\"./CLIQUE_Si-Si_Kr.png\" width=\"500\"></center>"
   ]
  },
  {
   "cell_type": "markdown",
   "id": "e1657bef-5d13-49f3-b63e-a13e88928d46",
   "metadata": {
    "slideshow": {
     "slide_type": "slide"
    },
    "tags": []
   },
   "source": [
    "#### __Carte $Si-CsI$, pour un faisceau de $^{48}Ca$__ "
   ]
  },
  {
   "cell_type": "markdown",
   "id": "49b0bc18-61f4-4c15-9059-43472c41dd98",
   "metadata": {
    "slideshow": {
     "slide_type": "fragment"
    },
    "tags": []
   },
   "source": [
    "<center><img src=\"./CLIQUE_Si-CsI_Ca.png\" width=\"500\"></center>"
   ]
  },
  {
   "cell_type": "markdown",
   "id": "da57b6d3-efee-4826-8b07-36843c955c8a",
   "metadata": {
    "slideshow": {
     "slide_type": "slide"
    },
    "tags": []
   },
   "source": [
    "### __Des agglomérats aux groupes__"
   ]
  },
  {
   "cell_type": "markdown",
   "id": "85606ae6-dbac-4e96-b6e2-7043960d783a",
   "metadata": {
    "slideshow": {
     "slide_type": "fragment"
    },
    "tags": []
   },
   "source": [
    "Les agglomérats se répartissent en deux catégories : les petits et les grands."
   ]
  },
  {
   "cell_type": "markdown",
   "id": "cb937fb0-b511-499c-9f10-16a1289824a3",
   "metadata": {
    "slideshow": {
     "slide_type": "fragment"
    },
    "tags": []
   },
   "source": [
    "Il convient donc de les distinguer. "
   ]
  },
  {
   "cell_type": "markdown",
   "id": "f2980570-4db0-4ff6-a900-f8a60acb976b",
   "metadata": {
    "slideshow": {
     "slide_type": "fragment"
    },
    "tags": []
   },
   "source": [
    "On le fait ici par leur surface dans le plan projeté $E-\\Delta E$."
   ]
  },
  {
   "cell_type": "markdown",
   "id": "e4a92b2f-9dcd-4a56-8aa1-0606aaa160ee",
   "metadata": {
    "slideshow": {
     "slide_type": "fragment"
    },
    "tags": []
   },
   "source": [
    "On regarde ensuite la distribution en population de chacun des agglomérats et on les sépare en deux groupes."
   ]
  },
  {
   "cell_type": "markdown",
   "id": "0097e16e-9903-499f-8549-cc5afd9abedb",
   "metadata": {
    "slideshow": {
     "slide_type": "fragment"
    },
    "tags": []
   },
   "source": [
    "La séparation est effectuée avec un centile $>70^{\\text{ème}}$"
   ]
  },
  {
   "cell_type": "markdown",
   "id": "dad18f73-bc4a-46b1-88e3-8f372d090814",
   "metadata": {
    "slideshow": {
     "slide_type": "slide"
    },
    "tags": []
   },
   "source": [
    "#### __Population de la carte $Si-Si$, pour un faisceau de $^{48}Ca$__ "
   ]
  },
  {
   "cell_type": "markdown",
   "id": "347f7093-1395-4dd4-8eb3-a579aa5d77b0",
   "metadata": {
    "slideshow": {
     "slide_type": "fragment"
    },
    "tags": []
   },
   "source": [
    "<center><img src=\"./CLIQUE_population_Si-Si_Ca.png\" width=\"425\"></center>"
   ]
  },
  {
   "cell_type": "markdown",
   "id": "0b87db30-2336-48e5-b370-e08c63afdf90",
   "metadata": {
    "slideshow": {
     "slide_type": "fragment"
    },
    "tags": []
   },
   "source": [
    "La limite __<font color=Orange>orange</font>__ est la séparation entre les deux populations. Au-delà de la limite sont les gros agglomérats.<br>"
   ]
  },
  {
   "cell_type": "markdown",
   "id": "4eb904cf-6806-45cb-94ff-57119dfc818f",
   "metadata": {
    "slideshow": {
     "slide_type": "fragment"
    },
    "tags": []
   },
   "source": [
    "Le centile de séparation est ici le $84^{\\text{ème}}$"
   ]
  },
  {
   "cell_type": "markdown",
   "id": "4723ba6c-63cc-4537-a6e7-207bb58db1d2",
   "metadata": {
    "slideshow": {
     "slide_type": "slide"
    },
    "tags": []
   },
   "source": [
    "#### __Population de la carte $Si-Si$, pour un faisceau de $^{84}Kr$__  "
   ]
  },
  {
   "cell_type": "markdown",
   "id": "0a451ec3-6605-4aaa-9bd0-cab9bf3a749e",
   "metadata": {
    "slideshow": {
     "slide_type": "fragment"
    },
    "tags": []
   },
   "source": [
    "<center><img src=\"./CLIQUE_population_Si-Si_Kr.png\" width=\"500\"></center>"
   ]
  },
  {
   "cell_type": "markdown",
   "id": "63c8289a-06cd-454f-92cc-270538b46552",
   "metadata": {
    "slideshow": {
     "slide_type": "fragment"
    },
    "tags": []
   },
   "source": [
    "Le centile de séparation est ici le $98^{\\text{ème}}$"
   ]
  },
  {
   "cell_type": "markdown",
   "id": "b4f75e0b-bffc-4275-9d64-51f00e46e608",
   "metadata": {
    "slideshow": {
     "slide_type": "slide"
    },
    "tags": []
   },
   "source": [
    "#### __Population de la carte $Si-CsI$, pour un faisceau de $^{48}Ca$__"
   ]
  },
  {
   "cell_type": "markdown",
   "id": "637e2860-e3de-4b01-8a96-1958f33e2ef8",
   "metadata": {
    "slideshow": {
     "slide_type": "fragment"
    },
    "tags": []
   },
   "source": [
    "<center><img src=\"./CLIQUE_population_Si-CsI_Ca.png\" width=\"500\"></center>"
   ]
  },
  {
   "cell_type": "markdown",
   "id": "278c8867-a4d0-4034-b28e-744e2452c559",
   "metadata": {
    "slideshow": {
     "slide_type": "fragment"
    },
    "tags": []
   },
   "source": [
    "Le centile de séparation est ici le $89^{\\text{ème}}$"
   ]
  },
  {
   "cell_type": "markdown",
   "id": "ee8ca7b8-42eb-4e52-960b-710b7d421fdb",
   "metadata": {
    "slideshow": {
     "slide_type": "slide"
    },
    "tags": []
   },
   "source": [
    "Une fois cela fait, on peut procéder à la récupération des agglomérats par les gros le long d'un modèle :"
   ]
  },
  {
   "cell_type": "markdown",
   "id": "14757791-c12c-4151-9dc4-bc7adcbd7105",
   "metadata": {
    "slideshow": {
     "slide_type": "fragment"
    },
    "tags": []
   },
   "source": [
    "\\begin{align}\n",
    "\\begin{split}\n",
    "\\Delta E(E) = \\frac{\\Delta E_0 f(E)}{\\Delta E_0}\n",
    "\\end{split}\n",
    "\\end{align}"
   ]
  },
  {
   "cell_type": "markdown",
   "id": "c59e4d6e-e290-4fb3-9c5b-5c202bc8880f",
   "metadata": {
    "slideshow": {
     "slide_type": "fragment"
    },
    "tags": []
   },
   "source": [
    "avec :\n",
    "\n",
    "\\begin{align}\n",
    "\\begin{split}\n",
    "\\begin{cases}\n",
    "\\Delta E_0 &= \\frac{b(1+c)}{c}\\\\\n",
    "f(E)       &= \\frac{b}{aE+c}+\\frac{b}{\\sqrt{aE+1}}\n",
    "\\end{cases}\n",
    "\\end{split}\n",
    "\\end{align}\n",
    "\n",
    "où $a,b,c$ sont des paramètres d'ajustements."
   ]
  },
  {
   "cell_type": "markdown",
   "id": "b24c24bc-27c1-4ebb-a0fb-d16a74ac453e",
   "metadata": {
    "slideshow": {
     "slide_type": "slide"
    },
    "tags": []
   },
   "source": [
    "On fait glisser ensuite sur chaque courbe une gaussienne de largeur $\\sigma$, l'écart-type d'un groupe sur l'axe $E$. "
   ]
  },
  {
   "cell_type": "markdown",
   "id": "5132ecd8-8f92-4ed9-a448-c82848d2bab0",
   "metadata": {
    "slideshow": {
     "slide_type": "fragment"
    },
    "tags": []
   },
   "source": [
    "Prendre simplement l'écart-type revient à faire l'hypothèse d'un groupe de forme rectangulaire."
   ]
  },
  {
   "cell_type": "markdown",
   "id": "365d30c6-e61e-43c2-a87b-19fc46383095",
   "metadata": {
    "slideshow": {
     "slide_type": "fragment"
    },
    "tags": []
   },
   "source": [
    "On essaye ensuite pour chaque petit agglomérat de calculer la probabilité liée aux gaussiennes de chaque gros agglomérat. "
   ]
  },
  {
   "cell_type": "markdown",
   "id": "afda6c00-9c63-4c44-ad7c-3cd84aa079bb",
   "metadata": {
    "slideshow": {
     "slide_type": "fragment"
    },
    "tags": []
   },
   "source": [
    "Le petit agglomérat se voit ajouter aux gros agglomérats dont la gaussienne a donné la plus haute probabilité. "
   ]
  },
  {
   "cell_type": "markdown",
   "id": "66c2b74e-8236-49bd-86d4-6f4543a35b44",
   "metadata": {
    "slideshow": {
     "slide_type": "subslide"
    },
    "tags": []
   },
   "source": [
    "__Parenthèse technique :__\n",
    "\n",
    "On construit un vecteur dont la dimension est le nombre de gros agglomérats $N$.\n",
    "\n",
    "Nous avons deux vecteurs de dimension $N$ avec la valeur moyenne $\\mu$ et l'écart-type en $\\Delta E$ noté $\\sigma$ :\n",
    "\n",
    "\\begin{align}\n",
    "\\begin{split}\n",
    "\\{\\hat{\\mu},\\hat{\\sigma}\\}\n",
    "\\end{split}\n",
    "\\end{align}\n",
    "\n",
    "Le vecteur $\\mu$ est construit ainsi :\n",
    "\n",
    "\\begin{align}\n",
    "\\begin{split}\n",
    "\\hat{\\mu} = \\hat{\\Delta E}\\{\\hat{a},\\hat{b},\\hat{c}\\}(E)\n",
    "\\end{split}\n",
    "\\end{align}\n",
    "\n",
    "où $\\{\\hat{a},\\hat{b},\\hat{c}\\}$ est un ensemble contenant chacun des paramètres du modèle ajusté sur l'ensemble des gros agglomérats sous forme de vecteur. "
   ]
  },
  {
   "cell_type": "markdown",
   "id": "10df1842-2128-4d89-96c8-d0cc5f8fe954",
   "metadata": {
    "slideshow": {
     "slide_type": "subslide"
    },
    "tags": []
   },
   "source": [
    "On met ensuite tout cela dans une gausienne $\\hat{\\mathcal G}$ :\n",
    "\n",
    "\\begin{align}\n",
    "\\begin{split}\n",
    "\\hat{\\mathcal G}\\{\\hat{\\mu},\\hat{\\sigma}\\}(E) \n",
    "\\end{split}\n",
    "\\end{align}\n",
    "\n",
    "L'indice d'association d'un agglomérat de coordonnées $E$ est donnée par le résultat de la fonction $argmax$ sur $\\hat{\\mathcal G}$."
   ]
  },
  {
   "cell_type": "markdown",
   "id": "657f44cf-4de1-428c-a912-790c727e12e4",
   "metadata": {
    "slideshow": {
     "slide_type": "fragment"
    },
    "tags": []
   },
   "source": [
    "Une fois les groupes formés, nous pouvons estimer la qualité du modèle via le coefficient $R^2$ et la valeur $MSE$."
   ]
  },
  {
   "cell_type": "markdown",
   "id": "a46a1247-82b1-4708-8d6b-2ac9200af7b4",
   "metadata": {
    "slideshow": {
     "slide_type": "subslide"
    },
    "tags": []
   },
   "source": [
    "__Parenthèse technique :__\n",
    "\n",
    "Le coefficient $R^2$, aussi nommé _coefficient de détermination_, est défini formellement comme suivant :\n",
    "\n",
    "\\begin{align}\n",
    "\\begin{split}\n",
    "R^2 = 1-\\frac{\\sum^n_i(y_i-Y_i)}{\\sum^n_i(y_i-\\bar{y})}\n",
    "\\end{split}\n",
    "\\end{align}"
   ]
  },
  {
   "cell_type": "markdown",
   "id": "b8ec243c-8237-49a4-ab58-35b0b14b2e9f",
   "metadata": {
    "slideshow": {
     "slide_type": "fragment"
    },
    "tags": []
   },
   "source": [
    "où $y_i$ est une observation, $\\bar{y}$ la moyenne arithmétique des observations et $Y_i$ un modèle associé à $y_i$."
   ]
  },
  {
   "cell_type": "markdown",
   "id": "22972bc2-da55-4fdb-b247-e79f6ecba5f6",
   "metadata": {
    "slideshow": {
     "slide_type": "fragment"
    },
    "tags": []
   },
   "source": [
    "Quand le coefficient vaut $1$ la reproduction est parfaite, au-delà de 1 ou au-dessous de $0$, le modèle est plus mauvais qu'une constante. Entre $0$ et $1$, on estime la qualité du modèle employé. "
   ]
  },
  {
   "cell_type": "markdown",
   "id": "9b0e14a8-c97f-4d7f-bae5-f4e9b95c81ac",
   "metadata": {
    "slideshow": {
     "slide_type": "subslide"
    },
    "tags": []
   },
   "source": [
    "La valeur $MSE$, aussi nommée _erreur quadratique moyenne_, est définie formellement ainsi :\n",
    "\n",
    "\\begin{align}\n",
    "\\begin{split}\n",
    "MSE = \\mathbb E \\left[\\left(\\hat{Y}-\\hat{y}\\right)^2\\right]\n",
    "\\end{split}\n",
    "\\end{align}\n",
    "\n",
    "où $\\mathbb E$ est l'espérance du modèle, $\\hat{Y}$ et $\\hat{y}$ les vecteurs de données et de prédictions du modèle."
   ]
  },
  {
   "cell_type": "markdown",
   "id": "840b62ab-6ba1-47a6-b17a-b1f7c73c03ce",
   "metadata": {
    "slideshow": {
     "slide_type": "slide"
    },
    "tags": []
   },
   "source": [
    "#### __$R^2$ et $MSE$ de la carte $Si-Si$, pour un faisceau de $^{48}Ca$__"
   ]
  },
  {
   "cell_type": "markdown",
   "id": "37af6b87-c5df-4ef7-bba5-035b4f574466",
   "metadata": {
    "slideshow": {
     "slide_type": "fragment"
    },
    "tags": []
   },
   "source": [
    "<center><img src=\"./R2_Si-Si_Ca.png\" width=\"350\">  <img src=\"./MSE_Si-Si_Ca.png\" width=\"350\"></center>"
   ]
  },
  {
   "cell_type": "markdown",
   "id": "3853197f-dd2f-49ca-b2ec-20d539eeb1cb",
   "metadata": {
    "slideshow": {
     "slide_type": "slide"
    },
    "tags": []
   },
   "source": [
    "#### __$R^2$ et $MSE$ de la carte $Si-Si$, pour un faisceau de $^{84}Kr$__  "
   ]
  },
  {
   "cell_type": "markdown",
   "id": "e276e11f-a25e-42c4-8a04-8d1c6ec6b2cb",
   "metadata": {
    "slideshow": {
     "slide_type": "fragment"
    },
    "tags": []
   },
   "source": [
    "<center><img src=\"./R2_Si-Si_Kr.png\" width=\"350\">  <img src=\"./MSE_Si-Si_Kr.png\" width=\"350\"></center>"
   ]
  },
  {
   "cell_type": "markdown",
   "id": "39cfbbea-3d59-4381-a42c-aa73b57e5772",
   "metadata": {
    "slideshow": {
     "slide_type": "slide"
    },
    "tags": []
   },
   "source": [
    "#### __$R^2$ et $MSE$ de la carte $Si-CsI$, pour un faisceau de $^{48}Ca$__ "
   ]
  },
  {
   "cell_type": "markdown",
   "id": "40587e10-382f-479f-b309-98e8673e2ead",
   "metadata": {
    "slideshow": {
     "slide_type": "fragment"
    },
    "tags": []
   },
   "source": [
    "<center><img src=\"./R2_Si-CsI_Ca.png\" width=\"350\">  <img src=\"./MSE_Si-CsI_Ca.png\" width=\"350\"></center>"
   ]
  },
  {
   "cell_type": "markdown",
   "id": "44ecc4a0-a065-45da-96a2-756d89b6f2b3",
   "metadata": {
    "slideshow": {
     "slide_type": "fragment"
    },
    "tags": []
   },
   "source": [
    "L'échelle pour la valeur $MSE$ est ici logarithmique."
   ]
  },
  {
   "cell_type": "markdown",
   "id": "f7c91dbb-251d-4896-b63e-a7c1b83bce03",
   "metadata": {
    "slideshow": {
     "slide_type": "slide"
    },
    "tags": []
   },
   "source": [
    "La valeur de $R^2$ nous indique globalement que les groupes suivent le modèle. "
   ]
  },
  {
   "cell_type": "markdown",
   "id": "7e55338a-765e-4121-91ff-f2668e2fa741",
   "metadata": {
    "slideshow": {
     "slide_type": "fragment"
    },
    "tags": []
   },
   "source": [
    "Nous allons maintenant supprimer les anomalies en regardant la distribution de population des coefficients. Les populations minoritaires et extrêmes sont évincées."
   ]
  },
  {
   "cell_type": "markdown",
   "id": "6ffdb225-5332-49b7-a693-11443977da9d",
   "metadata": {
    "slideshow": {
     "slide_type": "slide"
    },
    "tags": []
   },
   "source": [
    "#### __Population de $a,b,c$ de la carte $Si-Si$, pour un faisceau de $^{48}Ca$__  "
   ]
  },
  {
   "cell_type": "markdown",
   "id": "4ff68f97-f44a-46b4-a857-f1309e3b95b9",
   "metadata": {
    "slideshow": {
     "slide_type": "fragment"
    },
    "tags": []
   },
   "source": [
    "<center><img src=\"./Modeli_population_a_Si-Si_Ca.png\" width=\"250\"> <img src=\"./Modeli_population_b_Si-Si_Ca.png\" width=\"250\"> <img src=\"./Modeli_population_c_Si-Si_Ca.png\" width=\"250\"></center>"
   ]
  },
  {
   "cell_type": "markdown",
   "id": "a4fbcb01-bb31-4a3b-a07b-533a8c000049",
   "metadata": {
    "slideshow": {
     "slide_type": "fragment"
    },
    "tags": []
   },
   "source": [
    "Le centile de séparation est ici le $95^{\\text{ème}}$"
   ]
  },
  {
   "cell_type": "markdown",
   "id": "01410c35-c73b-402b-afdd-2c8c2c09214f",
   "metadata": {
    "slideshow": {
     "slide_type": "slide"
    },
    "tags": []
   },
   "source": [
    "#### __Population de $a,b,c$ de la carte $Si-Si$, pour un faisceau de $^{84}Kr$__  "
   ]
  },
  {
   "cell_type": "markdown",
   "id": "e1991254-9469-404f-a2b2-ab49dc3a7c32",
   "metadata": {
    "slideshow": {
     "slide_type": "fragment"
    },
    "tags": []
   },
   "source": [
    "<center><img src=\"./Modeli_population_a_Si-Si_Kr.png\" width=\"250\"> <img src=\"./Modeli_population_b_Si-Si_Kr.png\" width=\"250\"> <img src=\"./Modeli_population_c_Si-Si_Kr.png\" width=\"250\"></center>"
   ]
  },
  {
   "cell_type": "markdown",
   "id": "c656e6a1-ea61-4736-90e5-b823b381c4fd",
   "metadata": {
    "slideshow": {
     "slide_type": "fragment"
    },
    "tags": []
   },
   "source": [
    "Le centile de séparation est ici le $90^{\\text{ème}}$"
   ]
  },
  {
   "cell_type": "markdown",
   "id": "cc919832-f735-4769-92c0-92efbab92532",
   "metadata": {
    "slideshow": {
     "slide_type": "slide"
    },
    "tags": []
   },
   "source": [
    "#### __Population de $a,b,c$ de la carte $Si-CsI$, pour un faisceau de $^{48}Ca$__  "
   ]
  },
  {
   "cell_type": "markdown",
   "id": "c66e4d46-b5f3-468d-b0d7-957fac00e4fc",
   "metadata": {
    "slideshow": {
     "slide_type": "fragment"
    },
    "tags": []
   },
   "source": [
    "<center><img src=\"./Modeli_population_a_Si-CsI_Ca.png\" width=\"250\"> <img src=\"./Modeli_population_b_Si-CsI_Ca.png\" width=\"250\"> <img src=\"./Modeli_population_c_Si-CsI_Ca.png\" width=\"250\"></center>"
   ]
  },
  {
   "cell_type": "markdown",
   "id": "06b7a557-d94a-40db-8e48-787b95f8aa42",
   "metadata": {
    "slideshow": {
     "slide_type": "fragment"
    },
    "tags": []
   },
   "source": [
    "Le centile de séparation est ici le $99^{\\text{ème}}$"
   ]
  },
  {
   "cell_type": "markdown",
   "id": "29f382c6-2e1c-4c50-83f5-dc2e33aa868a",
   "metadata": {
    "slideshow": {
     "slide_type": "slide"
    },
    "tags": []
   },
   "source": [
    "#### __Carte $Si-Si$, pour un faisceau de $^{48}Ca$__ "
   ]
  },
  {
   "cell_type": "markdown",
   "id": "38c6c21a-de08-4cb9-a982-20e1d76d6cb0",
   "metadata": {
    "slideshow": {
     "slide_type": "fragment"
    },
    "tags": []
   },
   "source": [
    "<center><img src=\"./Modeli_Si-Si_Ca.png\" width=\"500\"></center>"
   ]
  },
  {
   "cell_type": "markdown",
   "id": "f8260ecd-c832-480c-9ee4-d71a916d3707",
   "metadata": {
    "slideshow": {
     "slide_type": "fragment"
    },
    "tags": []
   },
   "source": [
    "En __<font color=Black>noir</font>__, les groupes qui furent évincés."
   ]
  },
  {
   "cell_type": "markdown",
   "id": "119921c4-a564-4dc3-bcb1-b21486f7a31d",
   "metadata": {
    "slideshow": {
     "slide_type": "slide"
    },
    "tags": []
   },
   "source": [
    "#### __Carte $Si-Si$, pour un faisceau de $^{84}Kr$__ "
   ]
  },
  {
   "cell_type": "markdown",
   "id": "c99c5b62-6828-4fb5-ba1a-d7ccd2b02feb",
   "metadata": {
    "slideshow": {
     "slide_type": "fragment"
    },
    "tags": []
   },
   "source": [
    "<center><img src=\"./Modeli_Si-Si_Kr.png\" width=\"500\"></center>"
   ]
  },
  {
   "cell_type": "markdown",
   "id": "4cfb23f2-15ab-4cd9-8586-6da155798774",
   "metadata": {
    "slideshow": {
     "slide_type": "slide"
    },
    "tags": []
   },
   "source": [
    "#### __Carte $Si-CsI$, pour un faisceau de $^{48}Ca$__ "
   ]
  },
  {
   "cell_type": "markdown",
   "id": "04f06141-5660-476f-990c-afce1a4cadd3",
   "metadata": {
    "slideshow": {
     "slide_type": "fragment"
    },
    "tags": []
   },
   "source": [
    "<center><img src=\"./Modeli_Si-CsI_Ca.png\" width=\"500\"></center>"
   ]
  },
  {
   "cell_type": "markdown",
   "id": "5e1639a3-ac0e-4d5b-bd3d-bca3dcf03d42",
   "metadata": {
    "slideshow": {
     "slide_type": "slide"
    },
    "tags": []
   },
   "source": [
    "## __Linéarisation__"
   ]
  },
  {
   "cell_type": "markdown",
   "id": "1df4ea63-0b5b-4ea6-9ce9-f8ed452416fe",
   "metadata": {
    "slideshow": {
     "slide_type": "fragment"
    },
    "tags": []
   },
   "source": [
    "Maintenant que nous avons une belle collection de lignes, nous pouvons procéder à la linéarisation. Nous faisons d'abord un changement de coordonnées approximant une projection. Puis nous construisons une surface dans l'espace des paramètres de sorte à proposer une évolution sur l'ensemble des valeurs $E-\\Delta E$. "
   ]
  },
  {
   "cell_type": "markdown",
   "id": "4060a9d4-ab85-483b-b0a4-30ba311710fb",
   "metadata": {
    "slideshow": {
     "slide_type": "fragment"
    },
    "tags": []
   },
   "source": [
    "La correction par cette surface linéarisera la carte."
   ]
  },
  {
   "cell_type": "markdown",
   "id": "2fb6dd38-e262-4e10-a493-c3d02701a4b1",
   "metadata": {
    "slideshow": {
     "slide_type": "slide"
    },
    "tags": []
   },
   "source": [
    "Ce travail revient à faire un travail de géographe sur notre carte et de passer d'une représentation à une autre plus convenable :"
   ]
  },
  {
   "cell_type": "markdown",
   "id": "21d84912-a20d-4b2a-8169-e88878493362",
   "metadata": {
    "slideshow": {
     "slide_type": "fragment"
    },
    "tags": []
   },
   "source": [
    "<center><img src=\"./Linear_globe.jpg\" width=\"250\"> <img src=\"./Linear_map.jpg\" width=\"250\"></center>"
   ]
  },
  {
   "cell_type": "markdown",
   "id": "0ea8e569-e82f-495b-a6cb-68cba537ec06",
   "metadata": {
    "slideshow": {
     "slide_type": "slide"
    },
    "tags": []
   },
   "source": [
    "### __Construction de la surface réciproque__"
   ]
  },
  {
   "cell_type": "markdown",
   "id": "aabdbb5d-8551-43d7-967b-a8c583d8d3c4",
   "metadata": {
    "slideshow": {
     "slide_type": "fragment"
    },
    "tags": []
   },
   "source": [
    "Nous transformons notre carte ainsi :\n",
    "\n",
    "\\begin{align}\n",
    "\\begin{split}\n",
    "(E,\\Delta E) \\to (E, \\ln(\\Delta E))\n",
    "\\end{split}\n",
    "\\end{align}\n",
    "\n",
    "L'application de cette fonction revient ici à appliquer un noyau de représentation que l'on notera $\\ker(\\Delta E)$."
   ]
  },
  {
   "cell_type": "markdown",
   "id": "470326af-99db-42fd-be12-e3f7ed38b0bf",
   "metadata": {
    "slideshow": {
     "slide_type": "fragment"
    },
    "tags": []
   },
   "source": [
    "Cette transformation par un noyau sur l'axe $\\Delta E$, fait poser une approximation confortable :<br>\n",
    "\"Dans cet espace nous pouvons supposer que nos courbes représentent les charges et les masses comme des droites.\""
   ]
  },
  {
   "cell_type": "markdown",
   "id": "d265ee2c-8dc1-4784-accb-89b381a49faf",
   "metadata": {
    "slideshow": {
     "slide_type": "fragment"
    },
    "tags": []
   },
   "source": [
    "_Nota Bene : La solution exacte est trouvée dans la version suivante de __Genesis__ qui est en cours de finalisation_."
   ]
  },
  {
   "cell_type": "markdown",
   "id": "7144e2b8-7616-4fdf-b5ef-12c3fc12958a",
   "metadata": {
    "slideshow": {
     "slide_type": "slide"
    },
    "tags": []
   },
   "source": [
    "#### __Carte $Si-Si$, pour un faisceau de $^{48}Ca$ dans le noyau__"
   ]
  },
  {
   "cell_type": "markdown",
   "id": "ac1d900c-4aa4-4ff3-855f-3160b7bff193",
   "metadata": {
    "slideshow": {
     "slide_type": "fragment"
    },
    "tags": []
   },
   "source": [
    "<center><img src=\"./Linear_Si-Si_Ca.png\" width=\"500\"></center>"
   ]
  },
  {
   "cell_type": "markdown",
   "id": "1cc847cd-8fc3-42ce-85d4-3441a0c0c37a",
   "metadata": {
    "slideshow": {
     "slide_type": "fragment"
    },
    "tags": []
   },
   "source": [
    "La prolongation des droites donne une idée de la surface qui fut projetée sur notre carte."
   ]
  },
  {
   "cell_type": "markdown",
   "id": "09492833-effd-4c79-99fb-1ff2d43fc0c5",
   "metadata": {
    "slideshow": {
     "slide_type": "slide"
    },
    "tags": []
   },
   "source": [
    "#### __Carte $Si-Si$, pour un faisceau de $^{84}Kr$ dans le noyau__"
   ]
  },
  {
   "cell_type": "markdown",
   "id": "8727f3c0-c9a8-4779-ac63-d1a530701fa5",
   "metadata": {
    "slideshow": {
     "slide_type": "fragment"
    },
    "tags": []
   },
   "source": [
    "<center><img src=\"./Linear_Si-Si_Kr.png\" width=\"500\"></center>"
   ]
  },
  {
   "cell_type": "markdown",
   "id": "4f76db95-5892-4dc8-950d-c908654e734f",
   "metadata": {
    "slideshow": {
     "slide_type": "slide"
    },
    "tags": []
   },
   "source": [
    "#### __Carte $Si-CsI$, pour un faisceau de $^{48}Ca$ dans le noyau__"
   ]
  },
  {
   "cell_type": "markdown",
   "id": "d1612e84-de17-4532-bd91-225ec593d4ab",
   "metadata": {
    "slideshow": {
     "slide_type": "fragment"
    },
    "tags": []
   },
   "source": [
    "<center><img src=\"./Linear_Si-CsI_Ca.png\" width=\"500\"></center>"
   ]
  },
  {
   "cell_type": "markdown",
   "id": "bf6798b2-921a-4c46-9eb3-c956da215964",
   "metadata": {
    "slideshow": {
     "slide_type": "slide"
    },
    "tags": []
   },
   "source": [
    "Du fait d'une surface différente et d'anomalies persistantes, nous en resterons là avec les cartes $Si-CsI$ au cours de cette présentation."
   ]
  },
  {
   "cell_type": "markdown",
   "id": "9600027a-cacc-4fe0-b241-a15e99c12c62",
   "metadata": {
    "slideshow": {
     "slide_type": "fragment"
    },
    "tags": []
   },
   "source": [
    "Maintenant que nous savons ce qu'il se passe dans le noyau, nous construisons pour la carte $Si-Si$ l'équation de la surface projetée :\n",
    "\n",
    "\\begin{align}\n",
    "\\begin{split}\n",
    "\\beta\\frac{E}{\\Omega}-\\alpha\\ker(\\Delta E)+\\ln(\\Omega) = 0\n",
    "\\end{split}\n",
    "\\end{align}\n",
    "\n",
    "où $\\Omega$ est une nouvelle dimension, $\\alpha$ et $\\beta$ des coefficients d'ajustements."
   ]
  },
  {
   "cell_type": "markdown",
   "id": "b834f576-6fd5-4cc1-8999-68e77bb1a091",
   "metadata": {
    "slideshow": {
     "slide_type": "fragment"
    },
    "tags": []
   },
   "source": [
    "Pour décrire cette dimension  $\\Omega$, on use des paramètres d'une droite $ax+b$ :\n",
    "\n",
    "\\begin{align}\n",
    "\\begin{split}\n",
    "\\begin{cases}\n",
    "a &= \\frac{1}{\\Omega}\\\\\n",
    "b &= \\ln(\\Omega)\n",
    "\\end{cases}\n",
    "\\end{split}\n",
    "\\end{align}"
   ]
  },
  {
   "cell_type": "markdown",
   "id": "28cadd3e-13e8-4adf-8a3a-8480394d6d1c",
   "metadata": {
    "slideshow": {
     "slide_type": "slide"
    },
    "tags": []
   },
   "source": [
    "#### __Espace $(a,E,\\ker(\\Delta E))$ de la carte $Si-Si$, pour un faisceau de $^{48}Ca$__ "
   ]
  },
  {
   "cell_type": "markdown",
   "id": "dfdf9058-4b9c-4188-9f06-ebf9ce3fe7ac",
   "metadata": {
    "slideshow": {
     "slide_type": "fragment"
    },
    "tags": []
   },
   "source": [
    "<center><img src=\"./Linear_surface_Si-Si_Ca.png\" width=\"350\">  <img src=\"./Linear_scatter_Si-Si_Ca.png\" width=\"350\"></center>"
   ]
  },
  {
   "cell_type": "markdown",
   "id": "d64d7632-f8c1-4caf-95ef-83875649f9cb",
   "metadata": {
    "slideshow": {
     "slide_type": "fragment"
    },
    "tags": []
   },
   "source": [
    "Le coefficient $R^2$ de cette surface est $0,9938$ et la valeur de $MSE$ est $2,28\\times10^{-3}$"
   ]
  },
  {
   "cell_type": "markdown",
   "id": "67e799ca-0c02-4967-b246-d5a57eada3f1",
   "metadata": {
    "slideshow": {
     "slide_type": "slide"
    },
    "tags": []
   },
   "source": [
    "#### __Espace $(a,E,\\ker(\\Delta E))$ de la carte $Si-Si$, pour un faisceau de $^{84}Kr$__ "
   ]
  },
  {
   "cell_type": "markdown",
   "id": "490f899f-60fc-4918-9d7d-539cbacd2373",
   "metadata": {
    "slideshow": {
     "slide_type": "fragment"
    },
    "tags": []
   },
   "source": [
    "<center><img src=\"./Linear_surface_Si-Si_Kr.png\" width=\"350\">  <img src=\"./Linear_scatter_Si-Si_Kr.png\" width=\"350\"></center>"
   ]
  },
  {
   "cell_type": "markdown",
   "id": "bfa5e961-dfa1-4743-9505-b0c04c204fb1",
   "metadata": {
    "slideshow": {
     "slide_type": "fragment"
    },
    "tags": []
   },
   "source": [
    "Le coefficient $R^2$ de cette surface est $0.9949$ et la valeur de $MSE$ est $2,376\\times10^{-3}$"
   ]
  },
  {
   "cell_type": "markdown",
   "id": "8d4192f8-dd66-49f2-ad51-ae5eab8445ae",
   "metadata": {
    "slideshow": {
     "slide_type": "slide"
    },
    "tags": []
   },
   "source": [
    "### __Projection de la surface réciproque__"
   ]
  },
  {
   "cell_type": "markdown",
   "id": "29f5f136-72fe-4c5d-9790-bba3ffc16794",
   "metadata": {
    "slideshow": {
     "slide_type": "fragment"
    },
    "tags": []
   },
   "source": [
    "Une fois la surface décrite, nous pouvons corriger notre carte $(E,\\Delta E)$ et proposer une projection dans des coordonnées nouvelles  $(E,\\Delta E_0)$.\n",
    "\n",
    "$\\Delta E_0$ sera l'axe de projection."
   ]
  },
  {
   "cell_type": "markdown",
   "id": "02ea0a74-1a29-413f-82e4-849dc979ef7b",
   "metadata": {
    "slideshow": {
     "slide_type": "slide"
    },
    "tags": []
   },
   "source": [
    "#### __Carte linéarisée $Si-Si$, pour un faisceau de $^{48}Ca$__ "
   ]
  },
  {
   "cell_type": "markdown",
   "id": "62de8751-b5ee-4c8f-87a9-727581a824a2",
   "metadata": {
    "slideshow": {
     "slide_type": "fragment"
    },
    "tags": []
   },
   "source": [
    "<center><img src=\"./Linear_final_Si-Si_Ca.png\" width=\"500\"></center>"
   ]
  },
  {
   "cell_type": "markdown",
   "id": "759aebec-7e97-4a91-80d9-2a1068520316",
   "metadata": {
    "slideshow": {
     "slide_type": "slide"
    },
    "tags": []
   },
   "source": [
    "#### __Carte linéarisée $Si-Si$, pour un faisceau de $^{84}Kr$__"
   ]
  },
  {
   "cell_type": "markdown",
   "id": "558bb1d2-731d-4db6-8156-8a522c5d9272",
   "metadata": {
    "slideshow": {
     "slide_type": "fragment"
    },
    "tags": []
   },
   "source": [
    "<center><img src=\"./Linear_final_Si-Si_Kr.png\" width=\"500\"></center>"
   ]
  },
  {
   "cell_type": "markdown",
   "id": "2da5dbb5-9264-488a-9d48-1ec8d02f268e",
   "metadata": {
    "slideshow": {
     "slide_type": "slide"
    },
    "tags": []
   },
   "source": [
    "<center><img src=\"./Zoom_Linear_final_Si-Si_Kr.png\" width=\"500\"></center>"
   ]
  },
  {
   "cell_type": "markdown",
   "id": "fe787857-a725-4c2d-ab4f-b3d0f4cee758",
   "metadata": {
    "slideshow": {
     "slide_type": "fragment"
    },
    "tags": []
   },
   "source": [
    "La bonne connaissance de la géométrie abstraite du détecteur peut compenser des erreurs de l'étape du regroupement !"
   ]
  },
  {
   "cell_type": "markdown",
   "id": "e7008eb2-ce3b-4ef9-a0d8-b4307b6fccf6",
   "metadata": {
    "slideshow": {
     "slide_type": "slide"
    },
    "tags": []
   },
   "source": [
    "### __Projection sur l'axe linéaire__"
   ]
  },
  {
   "cell_type": "markdown",
   "id": "6f14fdca-0915-48bb-a16c-bac44c128d59",
   "metadata": {
    "slideshow": {
     "slide_type": "fragment"
    },
    "tags": []
   },
   "source": [
    "On effectue ensuite la projection des données sur l'axe $\\Delta E_0$."
   ]
  },
  {
   "cell_type": "markdown",
   "id": "cec7b39f-aa8a-4dd5-831a-359294b758e0",
   "metadata": {
    "slideshow": {
     "slide_type": "fragment"
    },
    "tags": []
   },
   "source": [
    "On identifie ensuite distribution par distribution."
   ]
  },
  {
   "cell_type": "markdown",
   "id": "4cfcc0dd-ba4a-4efa-8fcd-01cea9e76d04",
   "metadata": {
    "slideshow": {
     "slide_type": "slide"
    },
    "tags": []
   },
   "source": [
    "#### __Distribution de la carte linéarisée $Si-Si$, pour un faisceau de $^{48}Ca$__ "
   ]
  },
  {
   "cell_type": "markdown",
   "id": "85669f90-2d09-4bba-a911-93ff012f08fa",
   "metadata": {
    "tags": []
   },
   "source": [
    "<center><img src=\"./PID_Si1Si2_48Ca.png\" width=\"500\"></center>"
   ]
  },
  {
   "cell_type": "markdown",
   "id": "50389fc7-f01c-44cc-91bb-ca545c08d5b7",
   "metadata": {
    "slideshow": {
     "slide_type": "slide"
    },
    "tags": []
   },
   "source": [
    "#### __Distribution de la carte linéarisée $Si-Si$, pour un faisceau de $^{84}Kr$__"
   ]
  },
  {
   "cell_type": "markdown",
   "id": "9eb9f834-da07-4a4d-864a-d47ffc664e54",
   "metadata": {
    "tags": []
   },
   "source": [
    "<center><img src=\"./PID_Si1Si2_129Kr_1.png\" width=\"250\"><img src=\"./PID_Si1Si2_129Kr_2.png\" width=\"250\"><img src=\"./PID_Si1Si2_129Kr_3.png\" width=\"250\"></center>"
   ]
  },
  {
   "cell_type": "markdown",
   "id": "2ec16a82-62e8-4b16-bcd3-d578efd2c1a1",
   "metadata": {
    "slideshow": {
     "slide_type": "slide"
    },
    "tags": []
   },
   "source": [
    "# <h2><center>Conclusion</center></h2>"
   ]
  },
  {
   "cell_type": "markdown",
   "id": "599e11a0-acb3-4805-b10b-3597bf740639",
   "metadata": {
    "slideshow": {
     "slide_type": "fragment"
    },
    "tags": []
   },
   "source": [
    "On constate que la projection n'est pas parfaite. Il est question de bien comprendre la topologie et la géométrie abstraite de chaque détecteur."
   ]
  },
  {
   "cell_type": "markdown",
   "id": "1d3ae1e1-df18-43fa-9e22-465e0eb86e02",
   "metadata": {
    "slideshow": {
     "slide_type": "fragment"
    },
    "tags": []
   },
   "source": [
    "Le corps de l'analyse est achevé, la phase de développement de la méthode prend fin."
   ]
  },
  {
   "cell_type": "markdown",
   "id": "a3d62fd0-da0c-49ed-a85b-dba0ba47c895",
   "metadata": {
    "slideshow": {
     "slide_type": "fragment"
    },
    "tags": []
   },
   "source": [
    "Je dois donc simplement affiner le modèle de géométrie."
   ]
  },
  {
   "cell_type": "markdown",
   "id": "52eefbd8-89e3-4b45-a356-64526bc86ff4",
   "metadata": {
    "slideshow": {
     "slide_type": "slide"
    },
    "tags": []
   },
   "source": [
    "Je travaille actuellement sur la version suivante qui comble le manque de linéarité de celle présentée. La version suivante posera clairement l'analyse en noyau ébauchée ici. "
   ]
  },
  {
   "cell_type": "markdown",
   "id": "4dceebce-e32b-4efa-b944-14491dd612f6",
   "metadata": {
    "slideshow": {
     "slide_type": "fragment"
    },
    "tags": []
   },
   "source": [
    "Le traitement $Si-Si$ et $Si-CsI$ est donc identique à un modèle de topologie près."
   ]
  },
  {
   "cell_type": "markdown",
   "id": "992074d2-3161-4043-aba4-34608fbd559c",
   "metadata": {
    "slideshow": {
     "slide_type": "slide"
    },
    "tags": []
   },
   "source": [
    "# <h2><center>Perpectives</center></h2>"
   ]
  },
  {
   "cell_type": "markdown",
   "id": "aad9a122-66a9-479e-9980-d1aac139c660",
   "metadata": {
    "slideshow": {
     "slide_type": "slide"
    },
    "tags": []
   },
   "source": [
    "## __$Genesis\\ 0.9$__"
   ]
  },
  {
   "cell_type": "markdown",
   "id": "7ff47a6c-9fc4-4d96-a526-c949ecdf0981",
   "metadata": {
    "slideshow": {
     "slide_type": "fragment"
    },
    "tags": []
   },
   "source": [
    "Pour l'analyse $Genesis\\ 0.9$ le modèle de noyau de linéarisation de la carte est trouvé. "
   ]
  },
  {
   "cell_type": "markdown",
   "id": "107c9eb9-f7e6-466c-85bf-be7523812a5e",
   "metadata": {
    "slideshow": {
     "slide_type": "fragment"
    },
    "tags": []
   },
   "source": [
    "Seul le modèle de géométrie abstraite du détecteur reste à finaliser."
   ]
  },
  {
   "cell_type": "markdown",
   "id": "f56a86b6-4f7f-41a0-9c38-2ebecd68e8a7",
   "metadata": {
    "slideshow": {
     "slide_type": "slide"
    },
    "tags": []
   },
   "source": [
    "#### __Carte $Si-Si$, pour un faisceau de $^{48}Ca$ dans le noyau__"
   ]
  },
  {
   "cell_type": "markdown",
   "id": "9fc40f71-f5f9-476d-bdb0-f1017b166408",
   "metadata": {
    "slideshow": {
     "slide_type": "fragment"
    },
    "tags": []
   },
   "source": [
    "<center><img src=\"./Entrevue_Si-Si_Ca.png\" width=\"500\"></center>"
   ]
  },
  {
   "cell_type": "markdown",
   "id": "adc66350-3489-41ca-9e97-3600262bb560",
   "metadata": {
    "slideshow": {
     "slide_type": "slide"
    },
    "tags": []
   },
   "source": [
    "#### __Carte $Si-Si$, pour un faisceau de $^{84}Kr$ dans le noyau__"
   ]
  },
  {
   "cell_type": "markdown",
   "id": "e4961d16-f79c-49e1-9be4-893c089030f1",
   "metadata": {
    "slideshow": {
     "slide_type": "fragment"
    },
    "tags": []
   },
   "source": [
    "<center><img src=\"./Entrevue_Si-Si_Kr.png\" width=\"500\"></center>"
   ]
  },
  {
   "cell_type": "markdown",
   "id": "d7060b88-d9cc-4131-bb60-8d40b4121a28",
   "metadata": {
    "slideshow": {
     "slide_type": "slide"
    },
    "tags": []
   },
   "source": [
    "Un module de sélection du bruit par noyau sera implémenté."
   ]
  },
  {
   "cell_type": "markdown",
   "id": "b0b6f54f-3b18-44fe-a52a-e4c45a10eede",
   "metadata": {
    "slideshow": {
     "slide_type": "fragment"
    },
    "tags": []
   },
   "source": [
    "Pour essayer mon analyse, il sera ajouté dans mon lot de données :\n",
    "\n",
    "- l'expérience de $LNS-2009$ (statistique complète)\n",
    "- l'expérience $E818$ du printemps dernier"
   ]
  },
  {
   "cell_type": "markdown",
   "id": "9c7b83dc-901f-4ae7-8a4b-a00df702654f",
   "metadata": {
    "slideshow": {
     "slide_type": "slide"
    },
    "tags": []
   },
   "source": [
    "## __Traitement des cartes $Si-CsI$__"
   ]
  },
  {
   "cell_type": "markdown",
   "id": "72bbd9d3-d4ad-41c1-b4e9-9741772be98c",
   "metadata": {
    "slideshow": {
     "slide_type": "fragment"
    },
    "tags": []
   },
   "source": [
    "Le modèle de noyau pour ces cartes semble identique à celui des $Si-CsI$ mais la topologie est totalement différente. Il conviendra donc sur ce point de les traiter à part. "
   ]
  },
  {
   "cell_type": "markdown",
   "id": "51fcd5a6-7a77-431a-a7d2-9c4dab8c4f51",
   "metadata": {
    "slideshow": {
     "slide_type": "fragment"
    },
    "tags": []
   },
   "source": [
    "Elle seront traitées après la parution __Genesis 1.0__ pour $Si-Si$."
   ]
  },
  {
   "cell_type": "markdown",
   "id": "b9ca402b-2e0c-487f-889f-b745c7796d33",
   "metadata": {
    "slideshow": {
     "slide_type": "slide"
    },
    "tags": []
   },
   "source": [
    "# <h2><center>Bibliographie</center></h2>"
   ]
  },
  {
   "cell_type": "markdown",
   "id": "ec9300f7-0788-429c-84a2-11f43c546780",
   "metadata": {
    "slideshow": {
     "slide_type": "fragment"
    },
    "tags": []
   },
   "source": [
    "- Harris, C.R., Millman, K.J., van der Walt, S.J. et al. \n",
    "  Array programming with NumPy. \n",
    "  Nature 585, 357–362 (2020).\n",
    "- Pauli Virtanen, Ralf Gommers, Travis E. Oliphant, Matt Haberland, Tyler       Reddy, David Cournapeau, Evgeni Burovski, Pearu Peterson, Warren Weckesser,   Jonathan Bright, Stéfan J. van der Walt, Matthew Brett, Joshua Wilson, K.     Jarrod Millman, Nikolay Mayorov, Andrew R. J. Nelson, Eric Jones, Robert     Kern, Eric Larson, CJ Carey, İlhan Polat, Yu Feng, Eric W. Moore, Jake       VanderPlas, Denis Laxalde, Josef Perktold, Robert Cimrman, Ian Henriksen,     E.A. Quintero, Charles R Harris, Anne M. Archibald, Antônio H. Ribeiro,       Fabian Pedregosa, Paul van Mulbregt, and SciPy 1.0 Contributors. (2020)\n",
    "  SciPy 1.0: Fundamental Algorithms for Scientific Computing in Python. \n",
    "  Nature Methods, 17(3), 261-272.\n",
    "- Andrei Novikov : https://pyclustering.github.io/docs/0.9.0/html/d2/da9/namespacepyclustering_1_1cluster_1_1clique.html"
   ]
  },
  {
   "cell_type": "markdown",
   "id": "40a7d6c8-605f-445d-b492-6c01ab870fa3",
   "metadata": {
    "slideshow": {
     "slide_type": "slide"
    },
    "tags": []
   },
   "source": [
    "# <h2><center>Coordonnées</center></h2>"
   ]
  },
  {
   "cell_type": "markdown",
   "id": "b806c857-a17a-4177-94f9-83ce76d889c0",
   "metadata": {
    "slideshow": {
     "slide_type": "fragment"
    },
    "tags": []
   },
   "source": [
    "<center><img src=\"./Business_Card.jpeg\" width=\"500\"></center>"
   ]
  }
 ],
 "metadata": {
  "celltoolbar": "Diaporama",
  "hide_input": false,
  "kernelspec": {
   "display_name": "Python 3 (ipykernel)",
   "language": "python",
   "name": "python3"
  },
  "language_info": {
   "codemirror_mode": {
    "name": "ipython",
    "version": 3
   },
   "file_extension": ".py",
   "mimetype": "text/x-python",
   "name": "python",
   "nbconvert_exporter": "python",
   "pygments_lexer": "ipython3",
   "version": "3.10.5"
  },
  "latex_envs": {
   "LaTeX_envs_menu_present": true,
   "autoclose": true,
   "autocomplete": true,
   "bibliofile": "biblio.bib",
   "cite_by": "apalike",
   "current_citInitial": 1,
   "eqLabelWithNumbers": true,
   "eqNumInitial": 1,
   "hotkeys": {
    "equation": "Ctrl-E",
    "itemize": "Ctrl-I"
   },
   "labels_anchors": false,
   "latex_user_defs": false,
   "report_style_numbering": false,
   "user_envs_cfg": false
  },
  "toc-autonumbering": false,
  "toc-showmarkdowntxt": false
 },
 "nbformat": 4,
 "nbformat_minor": 5
}
